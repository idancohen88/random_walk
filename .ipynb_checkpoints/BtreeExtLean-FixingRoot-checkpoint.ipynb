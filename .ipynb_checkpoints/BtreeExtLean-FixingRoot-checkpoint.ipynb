{
 "cells": [
  {
   "cell_type": "code",
   "execution_count": 1,
   "metadata": {},
   "outputs": [
    {
     "name": "stdout",
     "output_type": "stream",
     "text": [
      "env: PURE_PYTHON=True\n"
     ]
    }
   ],
   "source": [
    "%env PURE_PYTHON True\n",
    "%matplotlib inline\n",
    "\n",
    "import matplotlib\n",
    "import matplotlib.pyplot as plt\n",
    "\n",
    "from datetime import datetime\n",
    "from BTrees.OOBTree import OOBTree\n",
    "import numpy as np\n",
    "from collections import Counter\n",
    "from scipy import stats\n",
    "import pandas as pd\n",
    "import pprint\n",
    "import timeit\n",
    "\n",
    "CHUNKS_SIZE = 10000\n",
    "KEY_LENGTH = 8\n",
    "ALPHABET = 'abcdefghijklmnopqrstuvwxyzABCDEFGHIJKLMNOPQRSTUVWXYZ'"
   ]
  },
  {
   "cell_type": "code",
   "execution_count": 2,
   "metadata": {},
   "outputs": [],
   "source": [
    "_debug_random_sampling = []"
   ]
  },
  {
   "cell_type": "code",
   "execution_count": 9,
   "metadata": {},
   "outputs": [],
   "source": [
    "import os\n",
    "os.environ[\"PURE_PYTHON\"] = \"True\"\n",
    "\n",
    "from BTrees.OOBTree import OOBTree as _OOBTree\n",
    "from collections import Counter\n",
    "import numpy as np\n",
    "\n",
    "\n",
    "class OOBTreeExtLean(_OOBTree):\n",
    "\n",
    "    def __init__(self):\n",
    "        super(OOBTreeExtLean, self).__init__()\n",
    "        self.walking_path_to_fanout_distribution = {}\n",
    "\n",
    "    def random_sampling(self, k):\n",
    "        self.walking_path_to_fanout_distribution = {}\n",
    "        all_accept_reject_measures = {\n",
    "            'accept': [],\n",
    "            'reject': [],\n",
    "            'revisited_paths': Counter()\n",
    "        }\n",
    "\n",
    "        k = min(len(self), k)\n",
    "        sampled_values = []\n",
    "        all_walking_paths_set = set()\n",
    "        while len(sampled_values) < k:\n",
    "            sampled_value, walking_path = self._get_value_and_path_by_random_walk_from_node(node=self)\n",
    "\n",
    "            if _this_value_was_sampled_already(walking_path, all_walking_paths_set):\n",
    "                all_accept_reject_measures['revisited_paths'][str(walking_path)] += 1\n",
    "                continue\n",
    "\n",
    "            accept_reject_measures = {\n",
    "                'path': walking_path,\n",
    "                'value': sampled_value,\n",
    "                #'acceptance_prob': acc_rej_test_acceptance_prob\n",
    "            }\n",
    "\n",
    "            all_accept_reject_measures['accept'].append(accept_reject_measures)\n",
    "\n",
    "            all_walking_paths_set.add(str(walking_path))\n",
    "            sampled_values.append(sampled_value)\n",
    "\n",
    "        add_to_debug_global(locals())\n",
    "\n",
    "        return sampled_values\n",
    "\n",
    "    def _get_value_and_path_by_random_walk_from_node(self, node):\n",
    "        walking_path = []\n",
    "        current_node = node\n",
    "\n",
    "        while not isinstance(current_node, self._bucket_type):\n",
    "            next_random_step = self._random_next_move_respect_fanout_prob(current_node, walking_path)\n",
    "            current_node = current_node._data[next_random_step].child\n",
    "            walking_path.append((next_random_step, current_node.size))\n",
    "\n",
    "        next_random_step = np.random.randint(low=0, high=current_node.size)\n",
    "        walking_path.append((next_random_step, current_node.size))\n",
    "\n",
    "        leaf = current_node._keys\n",
    "        return leaf[next_random_step], walking_path\n",
    "\n",
    "\n",
    "    def _random_next_move_respect_fanout_prob(self, current_node, walking_path):\n",
    "        walking_path_str = str(walking_path)\n",
    "        if walking_path_str in self.walking_path_to_fanout_distribution:\n",
    "            node_distribution = self.walking_path_to_fanout_distribution[walking_path_str]\n",
    "        else:\n",
    "            all_sizes = np.array([node.child.size for node in current_node._data])\n",
    "            node_distribution = all_sizes / sum(all_sizes)\n",
    "            self.walking_path_to_fanout_distribution[walking_path_str] = node_distribution\n",
    "\n",
    "        return np.random.choice(current_node.size, p=node_distribution)\n",
    "\n",
    "\n",
    "    def join(self, right_tree):\n",
    "        pass\n",
    "\n",
    "\n",
    "def add_to_debug_global(all_vars):\n",
    "    global _debug_random_sampling\n",
    "    _debug_random_sampling.append({\n",
    "        'params': {\n",
    "            'k': all_vars['k'],\n",
    "        },\n",
    "        'all_accept_reject_measures': all_vars['all_accept_reject_measures']\n",
    "    })\n",
    "\n",
    "\n",
    "def _this_value_was_sampled_already(walking_path, all_walking_paths_set):\n",
    "    return str(walking_path) in all_walking_paths_set\n"
   ]
  },
  {
   "cell_type": "code",
   "execution_count": 10,
   "metadata": {},
   "outputs": [],
   "source": [
    "def generate_btree_index_x_values_with_dist(num_of_values, disired_prefix_to_percent_dist, my_index=None):\n",
    "    my_index = my_index if my_index is not None else OOBTreeExt()\n",
    "    for prefix, amount_percent in disired_prefix_to_percent_dist.items():\n",
    "        amount = int(num_of_values * amount_percent)\n",
    "        my_index = insert_to_index_random(my_index, amount, prefix)\n",
    "\n",
    "    return my_index\n",
    "\n",
    "\n",
    "def insert_to_index_random(my_index, amount, prefix=''):\n",
    "    amount_in_iteration = min(CHUNKS_SIZE, amount)\n",
    "    print('generating %s values, chunk of %s, with prefix=\\'%s\\'' %(amount, amount_in_iteration, prefix))\n",
    "\n",
    "    proceed = 0\n",
    "    for i in range(0, amount, amount_in_iteration):\n",
    "        alphabet = list(ALPHABET)\n",
    "        np_alphabet = np.array(alphabet)\n",
    "        np_codes = np.random.choice(np_alphabet, [amount_in_iteration, KEY_LENGTH])\n",
    "        my_index.update({\n",
    "            prefix + ''.join(np_codes[i]): \"\".join(np_codes[i])\n",
    "            for i in range(len(np_codes))\n",
    "        })\n",
    "\n",
    "        proceed += amount_in_iteration\n",
    "        if (proceed % 150000) == 0:\n",
    "            print('done generating %s values' % (proceed))\n",
    "    return my_index\n"
   ]
  },
  {
   "cell_type": "code",
   "execution_count": 13,
   "metadata": {},
   "outputs": [
    {
     "name": "stdout",
     "output_type": "stream",
     "text": [
      "2021-01-23 09:38:25.989076\n",
      "generating 1000000 values, chunk of 10000, with prefix='gggg'\n",
      "done generating 150000 values\n",
      "done generating 300000 values\n",
      "done generating 450000 values\n",
      "done generating 600000 values\n",
      "done generating 750000 values\n",
      "done generating 900000 values\n",
      "generating 600000 values, chunk of 10000, with prefix='hhhh'\n",
      "done generating 150000 values\n",
      "done generating 300000 values\n",
      "done generating 450000 values\n",
      "done generating 600000 values\n",
      "generating 400000 values, chunk of 10000, with prefix='mmmm'\n",
      "done generating 150000 values\n",
      "done generating 300000 values\n",
      "generating 120000 values, chunk of 10000, with prefix='rrrr'\n",
      "generating 1880000 values, chunk of 10000, with prefix=''\n",
      "done generating 150000 values\n",
      "done generating 300000 values\n",
      "done generating 450000 values\n",
      "done generating 600000 values\n",
      "done generating 750000 values\n",
      "done generating 900000 values\n",
      "done generating 1050000 values\n",
      "done generating 1200000 values\n",
      "done generating 1350000 values\n",
      "done generating 1500000 values\n",
      "done generating 1650000 values\n",
      "done generating 1800000 values\n",
      "2021-01-23 09:42:33.724427\n"
     ]
    }
   ],
   "source": [
    "prefix_to_percent = {\n",
    "    'gggg': 0.25,\n",
    "    'hhhh': 0.15,\n",
    "    'mmmm': 0.10,\n",
    "    'rrrr': 0.03,\n",
    "    '': 0.47\n",
    "}\n",
    "print(datetime.utcnow())\n",
    "num_of_values = 4_000_000\n",
    "my_index_4m = generate_btree_index_x_values_with_dist(num_of_values, prefix_to_percent, OOBTreeExtLean())\n",
    "print(datetime.utcnow())"
   ]
  },
  {
   "cell_type": "code",
   "execution_count": 14,
   "metadata": {},
   "outputs": [
    {
     "name": "stdout",
     "output_type": "stream",
     "text": [
      "2021-01-23 09:42:33.729328\n",
      "2021-01-23 09:42:36.464181\n"
     ]
    }
   ],
   "source": [
    "print(datetime.utcnow())\n",
    "sampled = my_index_4m.random_sampling(k=10_000)\n",
    "print(datetime.utcnow()) # to 11 seconds "
   ]
  },
  {
   "cell_type": "code",
   "execution_count": 15,
   "metadata": {},
   "outputs": [],
   "source": [
    "def _calculate_prefix_ditribution(values):\n",
    "    return {value: occurences/len(values) for value, occurences in Counter([key[:4] for key in values]).most_common(10)}\n"
   ]
  },
  {
   "cell_type": "code",
   "execution_count": 16,
   "metadata": {},
   "outputs": [
    {
     "data": {
      "text/plain": [
       "{'gggg': 0.226,\n",
       " 'hhhh': 0.1601,\n",
       " 'mmmm': 0.1016,\n",
       " 'rrrr': 0.0283,\n",
       " 'xufU': 0.0002,\n",
       " 'zTqz': 0.0001,\n",
       " 'Eqdc': 0.0001,\n",
       " 'wvcA': 0.0001,\n",
       " 'FUUi': 0.0001,\n",
       " 'HeMR': 0.0001}"
      ]
     },
     "execution_count": 16,
     "metadata": {},
     "output_type": "execute_result"
    }
   ],
   "source": [
    "_calculate_prefix_ditribution(sampled)"
   ]
  },
  {
   "cell_type": "code",
   "execution_count": null,
   "metadata": {},
   "outputs": [],
   "source": [
    "## with root_coef: \n",
    "'gggg' = {float} 0.238\n",
    "'hhhh' = {float} 0.162\n",
    "'mmmm' = {float} 0.08\n",
    "'rrrr' = {float} 0.034\n",
    "'YOxQ' = {float} 0.001\n",
    "'NxqA' = {float} 0.001"
   ]
  }
 ],
 "metadata": {
  "kernelspec": {
   "display_name": "Python 3",
   "language": "python",
   "name": "python3"
  },
  "language_info": {
   "codemirror_mode": {
    "name": "ipython",
    "version": 3
   },
   "file_extension": ".py",
   "mimetype": "text/x-python",
   "name": "python",
   "nbconvert_exporter": "python",
   "pygments_lexer": "ipython3",
   "version": "3.6.5"
  }
 },
 "nbformat": 4,
 "nbformat_minor": 4
}
