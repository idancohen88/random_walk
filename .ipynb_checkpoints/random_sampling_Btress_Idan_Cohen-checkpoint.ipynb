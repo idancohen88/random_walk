{
 "cells": [
  {
   "cell_type": "code",
   "execution_count": 27,
   "metadata": {},
   "outputs": [
    {
     "name": "stdout",
     "output_type": "stream",
     "text": [
      "env: PURE_PYTHON=True\n"
     ]
    }
   ],
   "source": [
    "%env PURE_PYTHON True\n",
    "%matplotlib inline\n",
    "\n",
    "import matplotlib\n",
    "import matplotlib.pyplot as plt\n",
    "\n",
    "from datetime import datetime\n",
    "from BTrees.OOBTree import OOBTree\n",
    "import numpy as np\n",
    "from collections import Counter\n",
    "from scipy import stats\n",
    "import pandas as pd\n",
    "import pprint\n",
    "import timeit\n",
    "\n",
    "CHUNKS_SIZE = 10000\n",
    "KEY_LENGTH = 8\n",
    "ALPHABET = 'abcdefghijklmnopqrstuvwxyzABCDEFGHIJKLMNOPQRSTUVWXYZ'"
   ]
  },
  {
   "cell_type": "markdown",
   "metadata": {},
   "source": [
    "## Let's write an extenstion for doing a random walk, supporting the 3 approches in the article\n",
    "We will use WALKING_TECHNIQUE enum to try every different approach.\n"
   ]
  },
  {
   "cell_type": "code",
   "execution_count": 356,
   "metadata": {},
   "outputs": [],
   "source": [
    "from collections import Counter\n",
    "import numpy as np\n",
    "from BTrees.OOBTree import OOBTree\n",
    "\n",
    "\n",
    "_debug_random_sampling = []\n",
    "\n",
    "\n",
    "class WALKING_TECHNIQUE:\n",
    "    RANDOM = 'random'\n",
    "    RANDOM_WITH_TEST = 'random_with_test'\n",
    "    DISTRIBUTION_ORIENTED = 'distribution_oriented'\n",
    "\n",
    "\n",
    "class OOBTreeExt(OOBTree):\n",
    "\n",
    "    def __init__(self):\n",
    "        super(OOBTreeExt, self).__init__()\n",
    "        self.walking_path_to_fanout_distribution = {}\n",
    "\n",
    "    def random_sampling(self, k, how_to_walk):\n",
    "        self.walking_path_to_fanout_distribution = {}\n",
    "        all_accept_reject_measures = {\n",
    "            'accept': [],\n",
    "            'reject': [],\n",
    "            'revisited_paths': Counter()\n",
    "        }\n",
    "\n",
    "        k = min(len(self), k)\n",
    "        sampled_values = []\n",
    "        all_walking_paths_set = set()\n",
    "        while len(sampled_values) < k:\n",
    "            sampled_value, walking_path, acc_rej_test_acceptance_prob = \\\n",
    "                self._get_value_and_path_by_random_walk_from_node(node=self,\n",
    "                    how_to_walk=how_to_walk)\n",
    "\n",
    "            if _this_value_was_sampled_already(walking_path, all_walking_paths_set):\n",
    "                all_accept_reject_measures['revisited_paths'][str(walking_path)] += 1\n",
    "                continue\n",
    "\n",
    "            accept_reject_measures = {\n",
    "                'path': walking_path,\n",
    "                'value': sampled_value,\n",
    "                'acceptance_prob': acc_rej_test_acceptance_prob\n",
    "            }\n",
    "\n",
    "            if how_to_walk == WALKING_TECHNIQUE.RANDOM_WITH_TEST and not _accept_reject_test_pass(\n",
    "                    acc_rej_test_acceptance_prob):\n",
    "                all_accept_reject_measures['reject'].append(accept_reject_measures)\n",
    "                continue\n",
    "\n",
    "            all_accept_reject_measures['accept'].append(accept_reject_measures)\n",
    "\n",
    "            all_walking_paths_set.add(str(walking_path))\n",
    "            sampled_values.append(sampled_value)\n",
    "\n",
    "        add_to_debug_global(locals())\n",
    "\n",
    "        return sampled_values\n",
    "\n",
    "    def _get_value_and_path_by_random_walk_from_node(self, node, how_to_walk):\n",
    "        walking_path = []\n",
    "        current_node = node\n",
    "        acc_rej_test_acceptance_prob = 1\n",
    "        acc_rej_test_max_fan_out = None\n",
    "\n",
    "        while not isinstance(current_node, self._bucket_type):\n",
    "            if how_to_walk == WALKING_TECHNIQUE.RANDOM_WITH_TEST:\n",
    "                acc_rej_test_max_fan_out = self.max_internal_size\n",
    "                next_random_step = np.random.randint(low=0, high=current_node.size)\n",
    "            elif how_to_walk == WALKING_TECHNIQUE.DISTRIBUTION_ORIENTED:\n",
    "                next_random_step = self._random_next_move_respect_fanout_prob(current_node, walking_path)\n",
    "            else:\n",
    "                assert how_to_walk == WALKING_TECHNIQUE.RANDOM\n",
    "                next_random_step = np.random.randint(low=0, high=current_node.size)\n",
    "\n",
    "            current_node = current_node._data[next_random_step].child\n",
    "\n",
    "            if how_to_walk == WALKING_TECHNIQUE.RANDOM_WITH_TEST:\n",
    "                acc_rej_test_acceptance_prob *= (current_node.size / acc_rej_test_max_fan_out)\n",
    "\n",
    "            walking_path.append((next_random_step, current_node.size, acc_rej_test_max_fan_out))\n",
    "\n",
    "        next_random_step = np.random.randint(low=0, high=current_node.size)\n",
    "        walking_path.append((next_random_step, current_node.size, acc_rej_test_max_fan_out))\n",
    "\n",
    "        leaf = current_node._keys\n",
    "        return leaf[next_random_step], walking_path, acc_rej_test_acceptance_prob\n",
    "\n",
    "    def _get_path_to_bucket_of_value(self, key):\n",
    "        path = []\n",
    "        current_node = self._data\n",
    "\n",
    "        index = self._search(key)\n",
    "        # TODO: im not sure what _search('M') return 0, check it\n",
    "        if index >= 0:  # TODO: else?\n",
    "            if isinstance(self._data[index].child, self._bucket_type):\n",
    "                index_in_leaf = _find_first_greather_value_in_list(self._data[index].child._values,\n",
    "                    key)\n",
    "                return [index, index_in_leaf]\n",
    "            path_from_child = self._data[index].child._get_path_to_bucket_of_value(key)\n",
    "            path_from_child = [index] + path_from_child\n",
    "        else:\n",
    "            raise  # TODO!\n",
    "        return path_from_child\n",
    "\n",
    "\n",
    "    def _random_next_move_respect_fanout_prob(self, current_node, walking_path):\n",
    "        walking_path_str = str(walking_path)\n",
    "        if walking_path_str in self.walking_path_to_fanout_distribution:\n",
    "            node_distribution = self.walking_path_to_fanout_distribution[walking_path_str]\n",
    "        else:\n",
    "            all_sizes = np.array([node.child.size for node in current_node._data])\n",
    "            node_distribution = all_sizes / sum(all_sizes)\n",
    "            self.walking_path_to_fanout_distribution[walking_path_str] = node_distribution\n",
    "\n",
    "        return np.random.choice(current_node.size, p=node_distribution)\n",
    "\n",
    "\n",
    "def _find_first_greather_value_in_list(sorted_list, key):\n",
    "    values_greater_than_key = [index for index, val in enumerate(sorted_list) if val >= key]\n",
    "    if values_greater_than_key:\n",
    "        return values_greater_than_key[0]\n",
    "    return len(sorted_list) - 1\n",
    "\n",
    "\n",
    "def add_to_debug_global(all_vars):\n",
    "    global _debug_random_sampling\n",
    "    _debug_random_sampling.append({\n",
    "        'params': {\n",
    "            'k': all_vars['k'],\n",
    "            'how_to_walk': all_vars['how_to_walk'],\n",
    "        },\n",
    "        'all_accept_reject_measures': all_vars['all_accept_reject_measures']\n",
    "    })\n",
    "\n",
    "\n",
    "def _this_value_was_sampled_already(walking_path, all_walking_paths_set):\n",
    "    return str(walking_path) in all_walking_paths_set\n",
    "\n",
    "\n",
    "def _get_max_fan_out_for_(current_node):\n",
    "    return np.max([node_data.child.size for node_data in current_node._data])\n",
    "\n",
    "\n",
    "def _accept_reject_test_pass(acceptance_prob):\n",
    "    rand_num = np.random.random_sample()\n",
    "    return rand_num < acceptance_prob\n",
    "\n"
   ]
  },
  {
   "cell_type": "code",
   "execution_count": 390,
   "metadata": {},
   "outputs": [],
   "source": [
    "def generate_btree_index_x_values_with_dist(num_of_values, disired_prefix_to_percent_dist):\n",
    "    my_index = OOBTreeExt()\n",
    "    for prefix, amount_percent in disired_prefix_to_percent_dist.items():\n",
    "        amount = int(num_of_values * amount_percent)\n",
    "        my_index = insert_to_index_random(my_index, amount, prefix)\n",
    "    \n",
    "    return my_index\n",
    "\n",
    "\n",
    "def insert_to_index_random(my_index, amount, prefix=''):\n",
    "    amount_in_iteration = min(CHUNKS_SIZE, amount)\n",
    "    print('generating %s values, chunk of %s, with prefix=\\'%s\\'' %(amount, amount_in_iteration, prefix))\n",
    "\n",
    "    proceed = 0\n",
    "    for i in range(0, amount, amount_in_iteration):\n",
    "        alphabet = list(ALPHABET)\n",
    "        np_alphabet = np.array(alphabet)\n",
    "        np_codes = np.random.choice(np_alphabet, [amount_in_iteration, KEY_LENGTH])\n",
    "        my_index.update({\n",
    "            prefix + ''.join(np_codes[i]): \"\".join(np_codes[i])\n",
    "            for i in range(len(np_codes))\n",
    "        })\n",
    "\n",
    "        proceed += amount_in_iteration\n",
    "        if (proceed % 150000) == 0:\n",
    "            print('done generating %s values' % (proceed))\n",
    "    return my_index"
   ]
  },
  {
   "cell_type": "markdown",
   "metadata": {},
   "source": [
    "## Tools for analyze results"
   ]
  },
  {
   "cell_type": "code",
   "execution_count": 159,
   "metadata": {},
   "outputs": [],
   "source": [
    "def kl_divergence(p, q):\n",
    "    return np.sum(np.where(p != 0, p * np.log(p / q), 0))\n",
    "\n",
    "def _calculate_prefix_ditribution(values):\n",
    "    return {value: occurences/len(values) for value, occurences in Counter([key[:4] for key in values]).most_common(10)}\n",
    "\n",
    "def _compute_kl_divergence_and_other_to_df(df):\n",
    "    dist_vec_real = df[['gggg','hhhh','mmmm','rrrr']].values[0]\n",
    "    df['other'] = 1 - df[['gggg', 'hhhh', 'mmmm', 'rrrr']].sum(axis=1)\n",
    "    df['kl_diver_from_real'] = df[['gggg','hhhh','mmmm','rrrr']].apply(kl_divergence, axis=1, args=(dist_vec_real,))\n",
    "    return df\n",
    "\n",
    "def _draw_plots_comparing_algo_to_real(how_to_walk, df):\n",
    "    fig, axes = plt.subplots(nrows=1, ncols=3, figsize=(16,5))\n",
    "    for i, sample_size in enumerate([500, 5000, 10000]):\n",
    "        # TODO: instead of None, write explicity access to the row with the real values\n",
    "        df_by_walk = df[df['how_to_walk'].isin([how_to_walk, None])] \n",
    "        df_by_walk_and_sample = df_by_walk[df_by_walk['sample_size'].isin([sample_size,1_000_000])]\n",
    "        df_by_walk_and_sample = df_by_walk_and_sample.drop(\n",
    "            ['sample_size' ,'kl_diver_from_real','running_time'], axis=1)\n",
    "        df_by_walk_and_sample.plot(kind='bar', ax=axes[i], x='id')\n",
    "        \n",
    "def _random_sampling_to_measure(my_index, how_to_walk, df, sample_sizes=None, times_each=None):\n",
    "    sample_sizes = sample_sizes or (500, 5_000, 10_000)\n",
    "    times_each = times_each or list(range(3))\n",
    "    for sample_size in sample_sizes:\n",
    "        for i in times_each:\n",
    "            print (f'i={i}, sample_size={sample_size}')\n",
    "            start_time = timeit.default_timer()\n",
    "            samples = my_index.random_sampling(k=sample_size, how_to_walk=how_to_walk)\n",
    "            time_passed = timeit.default_timer() - start_time\n",
    "            assert len(samples) == sample_size\n",
    "            samples_dist = _calculate_prefix_ditribution(samples)\n",
    "            df = df.append([\n",
    "                {'id': f'sampled_{sample_size}_round_{i}', 'how_to_walk': how_to_walk, 'sample_size': sample_size ,\n",
    "                 'running_time': time_passed,\n",
    "                 **{x:y for x,y in samples_dist.items() if x in prefix_to_percent}}])\n",
    "    return df\n"
   ]
  },
  {
   "cell_type": "markdown",
   "metadata": {},
   "source": [
    "## Creating the synthetic data"
   ]
  },
  {
   "cell_type": "code",
   "execution_count": null,
   "metadata": {},
   "outputs": [],
   "source": [
    "prefix_to_percent = {\n",
    "    'gggg': 0.25,\n",
    "    'hhhh': 0.15,\n",
    "    'mmmm': 0.10,\n",
    "    'rrrr': 0.03,\n",
    "    '': 0.47\n",
    "}\n",
    "num_of_values = 1_000_000\n",
    "my_index = generate_btree_index_x_values_with_dist(num_of_values, prefix_to_percent)\n",
    "\n",
    "#my_index_backup_values = list(my_index.keys())\n"
   ]
  },
  {
   "cell_type": "code",
   "execution_count": 7,
   "metadata": {},
   "outputs": [],
   "source": [
    "prefix_to_percent_abs = {key:int(value * num_of_values) for key, value in prefix_to_percent.items()}\n",
    "results_data_distribution = Counter([key[:4] if key[:4] in prefix_to_percent else '' for key in my_index.keys()])\n",
    "\n",
    "assert prefix_to_percent_abs == results_data_distribution"
   ]
  },
  {
   "cell_type": "code",
   "execution_count": 8,
   "metadata": {
    "scrolled": true
   },
   "outputs": [],
   "source": [
    "results_prefix_to_percent = {key:value / num_of_values for key, value in results_data_distribution.items()}"
   ]
  },
  {
   "cell_type": "code",
   "execution_count": 9,
   "metadata": {},
   "outputs": [
    {
     "data": {
      "text/plain": [
       "{'': 0.47, 'gggg': 0.25, 'hhhh': 0.15, 'mmmm': 0.1, 'rrrr': 0.03}"
      ]
     },
     "execution_count": 9,
     "metadata": {},
     "output_type": "execute_result"
    }
   ],
   "source": [
    "results_prefix_to_percent"
   ]
  },
  {
   "cell_type": "code",
   "execution_count": 357,
   "metadata": {},
   "outputs": [],
   "source": [
    "my_index_c = OOBTreeExt()\n",
    "my_index_c.update({key:key for key in my_index.keys()})\n",
    "my_index = my_index_c"
   ]
  },
  {
   "cell_type": "markdown",
   "metadata": {},
   "source": [
    "## Random Sampling - K random Walks"
   ]
  },
  {
   "cell_type": "code",
   "execution_count": 47,
   "metadata": {},
   "outputs": [],
   "source": [
    "random_sampling_df = pd.DataFrame([{'id': 'real', 'how_to_walk': None, 'sample_size': len(my_index), **prefix_to_percent}])\n",
    "random_sampling_df.rename(columns={'': 'other'}, inplace=True)\n",
    "\n"
   ]
  },
  {
   "cell_type": "code",
   "execution_count": null,
   "metadata": {},
   "outputs": [],
   "source": [
    "random_sampling_df = _random_sampling_to_measure(my_index, how_to_walk=WALKING_TECHNIQUE.RANDOM, df=random_sampling_df)\n"
   ]
  },
  {
   "cell_type": "code",
   "execution_count": 163,
   "metadata": {},
   "outputs": [
    {
     "data": {
      "text/html": [
       "<div>\n",
       "<style scoped>\n",
       "    .dataframe tbody tr th:only-of-type {\n",
       "        vertical-align: middle;\n",
       "    }\n",
       "\n",
       "    .dataframe tbody tr th {\n",
       "        vertical-align: top;\n",
       "    }\n",
       "\n",
       "    .dataframe thead th {\n",
       "        text-align: right;\n",
       "    }\n",
       "</style>\n",
       "<table border=\"1\" class=\"dataframe\">\n",
       "  <thead>\n",
       "    <tr style=\"text-align: right;\">\n",
       "      <th></th>\n",
       "      <th>id</th>\n",
       "      <th>how_to_walk</th>\n",
       "      <th>sample_size</th>\n",
       "      <th>gggg</th>\n",
       "      <th>hhhh</th>\n",
       "      <th>mmmm</th>\n",
       "      <th>rrrr</th>\n",
       "      <th>other</th>\n",
       "      <th>running_time</th>\n",
       "      <th>kl_diver_from_real</th>\n",
       "    </tr>\n",
       "  </thead>\n",
       "  <tbody>\n",
       "    <tr>\n",
       "      <th>0</th>\n",
       "      <td>real</td>\n",
       "      <td>None</td>\n",
       "      <td>1000000</td>\n",
       "      <td>0.2500</td>\n",
       "      <td>0.1500</td>\n",
       "      <td>0.1000</td>\n",
       "      <td>0.0300</td>\n",
       "      <td>0.4700</td>\n",
       "      <td>NaN</td>\n",
       "      <td>0.000000</td>\n",
       "    </tr>\n",
       "    <tr>\n",
       "      <th>0</th>\n",
       "      <td>sampled_500_round_0</td>\n",
       "      <td>random</td>\n",
       "      <td>500</td>\n",
       "      <td>0.2060</td>\n",
       "      <td>0.1900</td>\n",
       "      <td>0.1120</td>\n",
       "      <td>0.0340</td>\n",
       "      <td>0.4580</td>\n",
       "      <td>0.194914</td>\n",
       "      <td>0.021984</td>\n",
       "    </tr>\n",
       "    <tr>\n",
       "      <th>0</th>\n",
       "      <td>sampled_500_round_1</td>\n",
       "      <td>random</td>\n",
       "      <td>500</td>\n",
       "      <td>0.2240</td>\n",
       "      <td>0.2480</td>\n",
       "      <td>0.1000</td>\n",
       "      <td>0.0280</td>\n",
       "      <td>0.4000</td>\n",
       "      <td>0.193402</td>\n",
       "      <td>0.098162</td>\n",
       "    </tr>\n",
       "    <tr>\n",
       "      <th>0</th>\n",
       "      <td>sampled_500_round_2</td>\n",
       "      <td>random</td>\n",
       "      <td>500</td>\n",
       "      <td>0.2180</td>\n",
       "      <td>0.2200</td>\n",
       "      <td>0.1160</td>\n",
       "      <td>0.0300</td>\n",
       "      <td>0.4160</td>\n",
       "      <td>0.195876</td>\n",
       "      <td>0.071616</td>\n",
       "    </tr>\n",
       "    <tr>\n",
       "      <th>0</th>\n",
       "      <td>sampled_5000_round_0</td>\n",
       "      <td>random</td>\n",
       "      <td>5000</td>\n",
       "      <td>0.2240</td>\n",
       "      <td>0.2058</td>\n",
       "      <td>0.1170</td>\n",
       "      <td>0.0366</td>\n",
       "      <td>0.4166</td>\n",
       "      <td>1.176879</td>\n",
       "      <td>0.066137</td>\n",
       "    </tr>\n",
       "    <tr>\n",
       "      <th>0</th>\n",
       "      <td>sampled_5000_round_1</td>\n",
       "      <td>random</td>\n",
       "      <td>5000</td>\n",
       "      <td>0.2382</td>\n",
       "      <td>0.2176</td>\n",
       "      <td>0.1108</td>\n",
       "      <td>0.0384</td>\n",
       "      <td>0.3950</td>\n",
       "      <td>1.189405</td>\n",
       "      <td>0.090278</td>\n",
       "    </tr>\n",
       "    <tr>\n",
       "      <th>0</th>\n",
       "      <td>sampled_5000_round_2</td>\n",
       "      <td>random</td>\n",
       "      <td>5000</td>\n",
       "      <td>0.2286</td>\n",
       "      <td>0.2162</td>\n",
       "      <td>0.1170</td>\n",
       "      <td>0.0346</td>\n",
       "      <td>0.4036</td>\n",
       "      <td>1.136536</td>\n",
       "      <td>0.081885</td>\n",
       "    </tr>\n",
       "    <tr>\n",
       "      <th>0</th>\n",
       "      <td>sampled_10000_round_0</td>\n",
       "      <td>random</td>\n",
       "      <td>10000</td>\n",
       "      <td>0.2248</td>\n",
       "      <td>0.2128</td>\n",
       "      <td>0.1117</td>\n",
       "      <td>0.0376</td>\n",
       "      <td>0.4131</td>\n",
       "      <td>3.268757</td>\n",
       "      <td>0.071384</td>\n",
       "    </tr>\n",
       "    <tr>\n",
       "      <th>0</th>\n",
       "      <td>sampled_10000_round_1</td>\n",
       "      <td>random</td>\n",
       "      <td>10000</td>\n",
       "      <td>0.2379</td>\n",
       "      <td>0.2068</td>\n",
       "      <td>0.1101</td>\n",
       "      <td>0.0341</td>\n",
       "      <td>0.4111</td>\n",
       "      <td>3.446687</td>\n",
       "      <td>0.069567</td>\n",
       "    </tr>\n",
       "    <tr>\n",
       "      <th>0</th>\n",
       "      <td>sampled_10000_round_2</td>\n",
       "      <td>random</td>\n",
       "      <td>10000</td>\n",
       "      <td>0.2303</td>\n",
       "      <td>0.2155</td>\n",
       "      <td>0.1186</td>\n",
       "      <td>0.0331</td>\n",
       "      <td>0.4025</td>\n",
       "      <td>3.403642</td>\n",
       "      <td>0.082665</td>\n",
       "    </tr>\n",
       "  </tbody>\n",
       "</table>\n",
       "</div>"
      ],
      "text/plain": [
       "                      id how_to_walk  sample_size    gggg    hhhh    mmmm  \\\n",
       "0                   real        None      1000000  0.2500  0.1500  0.1000   \n",
       "0    sampled_500_round_0      random          500  0.2060  0.1900  0.1120   \n",
       "0    sampled_500_round_1      random          500  0.2240  0.2480  0.1000   \n",
       "0    sampled_500_round_2      random          500  0.2180  0.2200  0.1160   \n",
       "0   sampled_5000_round_0      random         5000  0.2240  0.2058  0.1170   \n",
       "0   sampled_5000_round_1      random         5000  0.2382  0.2176  0.1108   \n",
       "0   sampled_5000_round_2      random         5000  0.2286  0.2162  0.1170   \n",
       "0  sampled_10000_round_0      random        10000  0.2248  0.2128  0.1117   \n",
       "0  sampled_10000_round_1      random        10000  0.2379  0.2068  0.1101   \n",
       "0  sampled_10000_round_2      random        10000  0.2303  0.2155  0.1186   \n",
       "\n",
       "     rrrr   other  running_time  kl_diver_from_real  \n",
       "0  0.0300  0.4700           NaN            0.000000  \n",
       "0  0.0340  0.4580      0.194914            0.021984  \n",
       "0  0.0280  0.4000      0.193402            0.098162  \n",
       "0  0.0300  0.4160      0.195876            0.071616  \n",
       "0  0.0366  0.4166      1.176879            0.066137  \n",
       "0  0.0384  0.3950      1.189405            0.090278  \n",
       "0  0.0346  0.4036      1.136536            0.081885  \n",
       "0  0.0376  0.4131      3.268757            0.071384  \n",
       "0  0.0341  0.4111      3.446687            0.069567  \n",
       "0  0.0331  0.4025      3.403642            0.082665  "
      ]
     },
     "execution_count": 163,
     "metadata": {},
     "output_type": "execute_result"
    }
   ],
   "source": [
    "random_sampling_df = _compute_kl_divergence_and_other_to_df(random_sampling_df)\n",
    "random_sampling_df[random_sampling_df['how_to_walk'].isin([WALKING_TECHNIQUE.RANDOM,None])]"
   ]
  },
  {
   "cell_type": "code",
   "execution_count": 160,
   "metadata": {},
   "outputs": [
    {
     "data": {
      "image/png": "[encoded data removed]",
      "text/plain": [
       "<Figure size 1152x360 with 3 Axes>"
      ]
     },
     "metadata": {
      "needs_background": "light"
     },
     "output_type": "display_data"
    }
   ],
   "source": [
    "_draw_plots_comparing_algo_to_real(how_to_walk=WALKING_TECHNIQUE.RANDOM ,df=random_sampling_df)\n"
   ]
  },
  {
   "cell_type": "markdown",
   "metadata": {},
   "source": [
    "## Acceptance/Rejection Sampling from a B+ tree - Naive method"
   ]
  },
  {
   "cell_type": "code",
   "execution_count": 352,
   "metadata": {},
   "outputs": [
    {
     "name": "stdout",
     "output_type": "stream",
     "text": [
      "2020-04-05 19:10:01.774110- i=0, sample_size=500\n",
      "2020-04-05 19:10:04.405102- i=1, sample_size=500\n",
      "2020-04-05 19:10:06.631061- i=2, sample_size=500\n",
      "2020-04-05 19:10:09.136172- i=0, sample_size=5000\n",
      "2020-04-05 19:10:49.044737- i=1, sample_size=5000\n",
      "2020-04-05 19:11:17.185863- i=2, sample_size=5000\n",
      "2020-04-05 19:11:42.900962- i=0, sample_size=10000\n",
      "2020-04-05 19:12:33.542739- i=1, sample_size=10000\n",
      "2020-04-05 19:13:28.081697- i=2, sample_size=10000\n"
     ]
    }
   ],
   "source": [
    "random_sampling_df = _random_sampling_to_measure(my_index, how_to_walk=WALKING_TECHNIQUE.RANDOM_WITH_TEST, df=random_sampling_df)\n"
   ]
  },
  {
   "cell_type": "code",
   "execution_count": 371,
   "metadata": {
    "scrolled": false
   },
   "outputs": [
    {
     "data": {
      "text/html": [
       "<div>\n",
       "<style scoped>\n",
       "    .dataframe tbody tr th:only-of-type {\n",
       "        vertical-align: middle;\n",
       "    }\n",
       "\n",
       "    .dataframe tbody tr th {\n",
       "        vertical-align: top;\n",
       "    }\n",
       "\n",
       "    .dataframe thead th {\n",
       "        text-align: right;\n",
       "    }\n",
       "</style>\n",
       "<table border=\"1\" class=\"dataframe\">\n",
       "  <thead>\n",
       "    <tr style=\"text-align: right;\">\n",
       "      <th></th>\n",
       "      <th>id</th>\n",
       "      <th>how_to_walk</th>\n",
       "      <th>sample_size</th>\n",
       "      <th>gggg</th>\n",
       "      <th>hhhh</th>\n",
       "      <th>mmmm</th>\n",
       "      <th>rrrr</th>\n",
       "      <th>other</th>\n",
       "      <th>running_time</th>\n",
       "      <th>kl_diver_from_real</th>\n",
       "    </tr>\n",
       "  </thead>\n",
       "  <tbody>\n",
       "    <tr>\n",
       "      <th>0</th>\n",
       "      <td>real</td>\n",
       "      <td>None</td>\n",
       "      <td>1000000</td>\n",
       "      <td>0.2500</td>\n",
       "      <td>0.1500</td>\n",
       "      <td>0.1000</td>\n",
       "      <td>0.0300</td>\n",
       "      <td>0.4700</td>\n",
       "      <td>NaN</td>\n",
       "      <td>0.000000</td>\n",
       "    </tr>\n",
       "    <tr>\n",
       "      <th>0</th>\n",
       "      <td>sampled_500_round_0</td>\n",
       "      <td>random_with_test</td>\n",
       "      <td>500</td>\n",
       "      <td>0.2260</td>\n",
       "      <td>0.1400</td>\n",
       "      <td>0.1180</td>\n",
       "      <td>0.0320</td>\n",
       "      <td>0.4840</td>\n",
       "      <td>2.532341</td>\n",
       "      <td>-0.010872</td>\n",
       "    </tr>\n",
       "    <tr>\n",
       "      <th>0</th>\n",
       "      <td>sampled_500_round_1</td>\n",
       "      <td>random_with_test</td>\n",
       "      <td>500</td>\n",
       "      <td>0.2500</td>\n",
       "      <td>0.1440</td>\n",
       "      <td>0.0880</td>\n",
       "      <td>0.0400</td>\n",
       "      <td>0.4780</td>\n",
       "      <td>2.217564</td>\n",
       "      <td>-0.005620</td>\n",
       "    </tr>\n",
       "    <tr>\n",
       "      <th>0</th>\n",
       "      <td>sampled_500_round_2</td>\n",
       "      <td>random_with_test</td>\n",
       "      <td>500</td>\n",
       "      <td>0.2440</td>\n",
       "      <td>0.1340</td>\n",
       "      <td>0.1120</td>\n",
       "      <td>0.0360</td>\n",
       "      <td>0.4740</td>\n",
       "      <td>2.497528</td>\n",
       "      <td>-0.001786</td>\n",
       "    </tr>\n",
       "    <tr>\n",
       "      <th>0</th>\n",
       "      <td>sampled_5000_round_0</td>\n",
       "      <td>random_with_test</td>\n",
       "      <td>5000</td>\n",
       "      <td>0.2508</td>\n",
       "      <td>0.1452</td>\n",
       "      <td>0.0988</td>\n",
       "      <td>0.0328</td>\n",
       "      <td>0.4724</td>\n",
       "      <td>39.900283</td>\n",
       "      <td>-0.002187</td>\n",
       "    </tr>\n",
       "    <tr>\n",
       "      <th>0</th>\n",
       "      <td>sampled_5000_round_1</td>\n",
       "      <td>random_with_test</td>\n",
       "      <td>5000</td>\n",
       "      <td>0.2482</td>\n",
       "      <td>0.1492</td>\n",
       "      <td>0.0984</td>\n",
       "      <td>0.0294</td>\n",
       "      <td>0.4748</td>\n",
       "      <td>28.134384</td>\n",
       "      <td>-0.004772</td>\n",
       "    </tr>\n",
       "    <tr>\n",
       "      <th>0</th>\n",
       "      <td>sampled_5000_round_2</td>\n",
       "      <td>random_with_test</td>\n",
       "      <td>5000</td>\n",
       "      <td>0.2482</td>\n",
       "      <td>0.1492</td>\n",
       "      <td>0.1030</td>\n",
       "      <td>0.0320</td>\n",
       "      <td>0.4676</td>\n",
       "      <td>25.707304</td>\n",
       "      <td>0.002518</td>\n",
       "    </tr>\n",
       "    <tr>\n",
       "      <th>0</th>\n",
       "      <td>sampled_10000_round_0</td>\n",
       "      <td>random_with_test</td>\n",
       "      <td>10000</td>\n",
       "      <td>0.2482</td>\n",
       "      <td>0.1525</td>\n",
       "      <td>0.0998</td>\n",
       "      <td>0.0291</td>\n",
       "      <td>0.4704</td>\n",
       "      <td>50.633395</td>\n",
       "      <td>-0.000359</td>\n",
       "    </tr>\n",
       "    <tr>\n",
       "      <th>0</th>\n",
       "      <td>sampled_10000_round_1</td>\n",
       "      <td>random_with_test</td>\n",
       "      <td>10000</td>\n",
       "      <td>0.2509</td>\n",
       "      <td>0.1480</td>\n",
       "      <td>0.0962</td>\n",
       "      <td>0.0310</td>\n",
       "      <td>0.4739</td>\n",
       "      <td>54.530156</td>\n",
       "      <td>-0.003795</td>\n",
       "    </tr>\n",
       "    <tr>\n",
       "      <th>0</th>\n",
       "      <td>sampled_10000_round_2</td>\n",
       "      <td>random_with_test</td>\n",
       "      <td>10000</td>\n",
       "      <td>0.2483</td>\n",
       "      <td>0.1523</td>\n",
       "      <td>0.1016</td>\n",
       "      <td>0.0333</td>\n",
       "      <td>0.4645</td>\n",
       "      <td>48.298093</td>\n",
       "      <td>0.005711</td>\n",
       "    </tr>\n",
       "  </tbody>\n",
       "</table>\n",
       "</div>"
      ],
      "text/plain": [
       "                      id       how_to_walk  sample_size    gggg    hhhh  \\\n",
       "0                   real              None      1000000  0.2500  0.1500   \n",
       "0    sampled_500_round_0  random_with_test          500  0.2260  0.1400   \n",
       "0    sampled_500_round_1  random_with_test          500  0.2500  0.1440   \n",
       "0    sampled_500_round_2  random_with_test          500  0.2440  0.1340   \n",
       "0   sampled_5000_round_0  random_with_test         5000  0.2508  0.1452   \n",
       "0   sampled_5000_round_1  random_with_test         5000  0.2482  0.1492   \n",
       "0   sampled_5000_round_2  random_with_test         5000  0.2482  0.1492   \n",
       "0  sampled_10000_round_0  random_with_test        10000  0.2482  0.1525   \n",
       "0  sampled_10000_round_1  random_with_test        10000  0.2509  0.1480   \n",
       "0  sampled_10000_round_2  random_with_test        10000  0.2483  0.1523   \n",
       "\n",
       "     mmmm    rrrr   other  running_time  kl_diver_from_real  \n",
       "0  0.1000  0.0300  0.4700           NaN            0.000000  \n",
       "0  0.1180  0.0320  0.4840      2.532341           -0.010872  \n",
       "0  0.0880  0.0400  0.4780      2.217564           -0.005620  \n",
       "0  0.1120  0.0360  0.4740      2.497528           -0.001786  \n",
       "0  0.0988  0.0328  0.4724     39.900283           -0.002187  \n",
       "0  0.0984  0.0294  0.4748     28.134384           -0.004772  \n",
       "0  0.1030  0.0320  0.4676     25.707304            0.002518  \n",
       "0  0.0998  0.0291  0.4704     50.633395           -0.000359  \n",
       "0  0.0962  0.0310  0.4739     54.530156           -0.003795  \n",
       "0  0.1016  0.0333  0.4645     48.298093            0.005711  "
      ]
     },
     "execution_count": 371,
     "metadata": {},
     "output_type": "execute_result"
    }
   ],
   "source": [
    "random_sampling_df = _compute_kl_divergence_and_other_to_df(random_sampling_df)\n",
    "random_sampling_df[random_sampling_df['how_to_walk'].isin([WALKING_TECHNIQUE.RANDOM_WITH_TEST,None])]"
   ]
  },
  {
   "cell_type": "code",
   "execution_count": 354,
   "metadata": {},
   "outputs": [
    {
     "data": {
      "image/png": "[encoded data removed]",
      "text/plain": [
       "<Figure size 1152x360 with 3 Axes>"
      ]
     },
     "metadata": {
      "needs_background": "light"
     },
     "output_type": "display_data"
    }
   ],
   "source": [
    "_draw_plots_comparing_algo_to_real(how_to_walk=WALKING_TECHNIQUE.RANDOM_WITH_TEST ,df=random_sampling_df)"
   ]
  },
  {
   "cell_type": "code",
   "execution_count": 382,
   "metadata": {},
   "outputs": [
    {
     "data": {
      "text/html": [
       "<div>\n",
       "<style scoped>\n",
       "    .dataframe tbody tr th:only-of-type {\n",
       "        vertical-align: middle;\n",
       "    }\n",
       "\n",
       "    .dataframe tbody tr th {\n",
       "        vertical-align: top;\n",
       "    }\n",
       "\n",
       "    .dataframe thead th {\n",
       "        text-align: right;\n",
       "    }\n",
       "</style>\n",
       "<table border=\"1\" class=\"dataframe\">\n",
       "  <thead>\n",
       "    <tr style=\"text-align: right;\">\n",
       "      <th></th>\n",
       "      <th>kl_diver_from_real</th>\n",
       "    </tr>\n",
       "    <tr>\n",
       "      <th>how_to_walk</th>\n",
       "      <th></th>\n",
       "    </tr>\n",
       "  </thead>\n",
       "  <tbody>\n",
       "    <tr>\n",
       "      <th>random</th>\n",
       "      <td>0.076986</td>\n",
       "    </tr>\n",
       "    <tr>\n",
       "      <th>random_with_test</th>\n",
       "      <td>-0.000481</td>\n",
       "    </tr>\n",
       "  </tbody>\n",
       "</table>\n",
       "</div>"
      ],
      "text/plain": [
       "                  kl_diver_from_real\n",
       "how_to_walk                         \n",
       "random                      0.076986\n",
       "random_with_test           -0.000481"
      ]
     },
     "execution_count": 382,
     "metadata": {},
     "output_type": "execute_result"
    }
   ],
   "source": [
    "df_compare_kl = random_sampling_df[random_sampling_df['how_to_walk'].isin([WALKING_TECHNIQUE.RANDOM_WITH_TEST, WALKING_TECHNIQUE.RANDOM])]\n",
    "df_compare_kl = df_compare_kl[df_compare_kl['sample_size']>=5000]\n",
    "df_compare_kl[['kl_diver_from_real','how_to_walk']].groupby(['how_to_walk']).mean()"
   ]
  },
  {
   "cell_type": "markdown",
   "metadata": {},
   "source": [
    "### Performance of Acceptance/Rejection Sampling from a B+ tree - Naive method"
   ]
  },
  {
   "cell_type": "markdown",
   "metadata": {},
   "source": [
    "we use _debug_random_sampling to keep statistics on experminets, for performance debuging. Let's use it to examine specific run of Acceptance/Rejection Sampling, with sample_size=10_000"
   ]
  },
  {
   "cell_type": "code",
   "execution_count": 209,
   "metadata": {},
   "outputs": [],
   "source": [
    "all_exper_with_10_and_accept_reject_test = [experiment for experiment in _debug_random_sampling if experiment['params']['k'] == 10_000 and \n",
    "                                 experiment['params']['how_to_walk']==WALKING_TECHNIQUE.RANDOM_WITH_TEST]\n",
    "\n",
    "arbitrary_index_running = 0\n",
    "exper_runing_measures = all_exper_with_10_and_accept_reject_test[arbitrary_index_running]['all_accept_reject_measures']\n",
    "\n",
    "count_gggg_in_arbitrary_running = len([1 for walk in exper_runing_measures['accept'] if walk['value'][:4] == 'gggg'])\n",
    "assert  count_gggg_in_arbitrary_running > 2400 and count_gggg_in_arbitrary_running < 2600, (\n",
    "    'error. You didnt catch the right running from _debug_random_sampling. Try to change `arbitrary_index_running`')\n"
   ]
  },
  {
   "cell_type": "code",
   "execution_count": 396,
   "metadata": {},
   "outputs": [
    {
     "data": {
      "text/plain": [
       "452692"
      ]
     },
     "execution_count": 396,
     "metadata": {},
     "output_type": "execute_result"
    }
   ],
   "source": [
    "walk_passed_test = all_exper_with_10_and_accept_reject_test[0]['all_accept_reject_measures']['accept']\n",
    "walk_rejected_test = all_exper_with_10_and_accept_reject_test[0]['all_accept_reject_measures']['reject']\n",
    "\n",
    "accepted_paths_prob = [walk['acceptance_prob'] for walk in walk_passed_test]\n",
    "rejected_paths_prob = [walk['acceptance_prob'] for walk in walk_rejected_test]\n",
    "\n",
    "\n",
    "len(all_exper_with_10_and_accept_reject_test[0]['all_accept_reject_measures']['reject'])"
   ]
  },
  {
   "cell_type": "code",
   "execution_count": 290,
   "metadata": {},
   "outputs": [
    {
     "data": {
      "text/plain": [
       "DescribeResult(nobs=10000, minmax=(0.015, 0.06), mean=0.023443942944000002, variance=4.8575540830822585e-05, skewness=0.4924613121255357, kurtosis=1.0318707892752634)"
      ]
     },
     "execution_count": 290,
     "metadata": {},
     "output_type": "execute_result"
    }
   ],
   "source": [
    "stats.describe(accepted_paths_prob)"
   ]
  },
  {
   "cell_type": "code",
   "execution_count": 291,
   "metadata": {},
   "outputs": [
    {
     "data": {
      "text/plain": [
       "452692"
      ]
     },
     "execution_count": 291,
     "metadata": {},
     "output_type": "execute_result"
    }
   ],
   "source": [
    "len(walk_rejected_test)"
   ]
  },
  {
   "cell_type": "code",
   "execution_count": 222,
   "metadata": {},
   "outputs": [
    {
     "name": "stdout",
     "output_type": "stream",
     "text": [
      "accepted paths histogram\n"
     ]
    },
    {
     "data": {
      "text/plain": [
       "(array([5175.,    0.,   22., 4762.,    0.,    0.,    0.,    0.,    0.,\n",
       "          41.]),\n",
       " array([0.015 , 0.0195, 0.024 , 0.0285, 0.033 , 0.0375, 0.042 , 0.0465,\n",
       "        0.051 , 0.0555, 0.06  ]),\n",
       " <a list of 10 Patch objects>)"
      ]
     },
     "execution_count": 222,
     "metadata": {},
     "output_type": "execute_result"
    },
    {
     "data": {
      "image/png": "[encoded data removed]",
      "text/plain": [
       "<Figure size 432x288 with 1 Axes>"
      ]
     },
     "metadata": {
      "needs_background": "light"
     },
     "output_type": "display_data"
    }
   ],
   "source": [
    "print('accepted paths histogram')\n",
    "plt.hist(accepted_paths_prob, log=True)"
   ]
  },
  {
   "cell_type": "code",
   "execution_count": 221,
   "metadata": {},
   "outputs": [
    {
     "name": "stdout",
     "output_type": "stream",
     "text": [
      "rejected paths histogram\n"
     ]
    },
    {
     "data": {
      "text/plain": [
       "(array([3.02027e+05, 0.00000e+00, 9.31000e+02, 1.49130e+05, 0.00000e+00,\n",
       "        4.00000e+00, 0.00000e+00, 0.00000e+00, 0.00000e+00, 6.00000e+02]),\n",
       " array([0.015 , 0.0195, 0.024 , 0.0285, 0.033 , 0.0375, 0.042 , 0.0465,\n",
       "        0.051 , 0.0555, 0.06  ]),\n",
       " <a list of 10 Patch objects>)"
      ]
     },
     "execution_count": 221,
     "metadata": {},
     "output_type": "execute_result"
    },
    {
     "data": {
      "image/png": "[encoded data removed]",
      "text/plain": [
       "<Figure size 432x288 with 1 Axes>"
      ]
     },
     "metadata": {
      "needs_background": "light"
     },
     "output_type": "display_data"
    }
   ],
   "source": [
    "print('rejected paths histogram')\n",
    "plt.hist(rejected_paths_prob, log=True)"
   ]
  },
  {
   "cell_type": "code",
   "execution_count": 229,
   "metadata": {},
   "outputs": [
    {
     "data": {
      "text/plain": [
       "2282"
      ]
     },
     "execution_count": 229,
     "metadata": {},
     "output_type": "execute_result"
    }
   ],
   "source": [
    "sum(exper_runing_measures['revisited_paths'].values())"
   ]
  },
  {
   "cell_type": "markdown",
   "metadata": {},
   "source": [
    "## Random Sampling - Walk B+ Tree According to Fan-Outs distribution"
   ]
  },
  {
   "cell_type": "code",
   "execution_count": null,
   "metadata": {},
   "outputs": [],
   "source": [
    "random_sampling_df = _random_sampling_to_measure(my_index, how_to_walk=WALKING_TECHNIQUE.DISTRIBUTION_ORIENTED, df=random_sampling_df)"
   ]
  },
  {
   "cell_type": "code",
   "execution_count": 370,
   "metadata": {},
   "outputs": [
    {
     "data": {
      "text/html": [
       "<div>\n",
       "<style scoped>\n",
       "    .dataframe tbody tr th:only-of-type {\n",
       "        vertical-align: middle;\n",
       "    }\n",
       "\n",
       "    .dataframe tbody tr th {\n",
       "        vertical-align: top;\n",
       "    }\n",
       "\n",
       "    .dataframe thead th {\n",
       "        text-align: right;\n",
       "    }\n",
       "</style>\n",
       "<table border=\"1\" class=\"dataframe\">\n",
       "  <thead>\n",
       "    <tr style=\"text-align: right;\">\n",
       "      <th></th>\n",
       "      <th>id</th>\n",
       "      <th>how_to_walk</th>\n",
       "      <th>sample_size</th>\n",
       "      <th>gggg</th>\n",
       "      <th>hhhh</th>\n",
       "      <th>mmmm</th>\n",
       "      <th>rrrr</th>\n",
       "      <th>other</th>\n",
       "      <th>running_time</th>\n",
       "      <th>kl_diver_from_real</th>\n",
       "    </tr>\n",
       "  </thead>\n",
       "  <tbody>\n",
       "    <tr>\n",
       "      <th>0</th>\n",
       "      <td>real</td>\n",
       "      <td>None</td>\n",
       "      <td>1000000</td>\n",
       "      <td>0.2500</td>\n",
       "      <td>0.1500</td>\n",
       "      <td>0.1000</td>\n",
       "      <td>0.0300</td>\n",
       "      <td>0.4700</td>\n",
       "      <td>NaN</td>\n",
       "      <td>0.000000</td>\n",
       "    </tr>\n",
       "    <tr>\n",
       "      <th>0</th>\n",
       "      <td>sampled_500_round_0</td>\n",
       "      <td>distribution_oriented</td>\n",
       "      <td>500</td>\n",
       "      <td>0.2380</td>\n",
       "      <td>0.1640</td>\n",
       "      <td>0.0740</td>\n",
       "      <td>0.0260</td>\n",
       "      <td>0.4980</td>\n",
       "      <td>0.405200</td>\n",
       "      <td>-0.023076</td>\n",
       "    </tr>\n",
       "    <tr>\n",
       "      <th>0</th>\n",
       "      <td>sampled_500_round_1</td>\n",
       "      <td>distribution_oriented</td>\n",
       "      <td>500</td>\n",
       "      <td>0.2780</td>\n",
       "      <td>0.1340</td>\n",
       "      <td>0.0920</td>\n",
       "      <td>0.0240</td>\n",
       "      <td>0.4720</td>\n",
       "      <td>0.395519</td>\n",
       "      <td>0.001371</td>\n",
       "    </tr>\n",
       "    <tr>\n",
       "      <th>0</th>\n",
       "      <td>sampled_500_round_2</td>\n",
       "      <td>distribution_oriented</td>\n",
       "      <td>500</td>\n",
       "      <td>0.2220</td>\n",
       "      <td>0.1480</td>\n",
       "      <td>0.0920</td>\n",
       "      <td>0.0200</td>\n",
       "      <td>0.5180</td>\n",
       "      <td>0.395041</td>\n",
       "      <td>-0.044137</td>\n",
       "    </tr>\n",
       "    <tr>\n",
       "      <th>0</th>\n",
       "      <td>sampled_5000_round_0</td>\n",
       "      <td>distribution_oriented</td>\n",
       "      <td>5000</td>\n",
       "      <td>0.2494</td>\n",
       "      <td>0.1538</td>\n",
       "      <td>0.1078</td>\n",
       "      <td>0.0284</td>\n",
       "      <td>0.4606</td>\n",
       "      <td>1.270642</td>\n",
       "      <td>0.009788</td>\n",
       "    </tr>\n",
       "    <tr>\n",
       "      <th>0</th>\n",
       "      <td>sampled_5000_round_1</td>\n",
       "      <td>distribution_oriented</td>\n",
       "      <td>5000</td>\n",
       "      <td>0.2580</td>\n",
       "      <td>0.1560</td>\n",
       "      <td>0.0986</td>\n",
       "      <td>0.0264</td>\n",
       "      <td>0.4610</td>\n",
       "      <td>1.372470</td>\n",
       "      <td>0.009480</td>\n",
       "    </tr>\n",
       "    <tr>\n",
       "      <th>0</th>\n",
       "      <td>sampled_5000_round_2</td>\n",
       "      <td>distribution_oriented</td>\n",
       "      <td>5000</td>\n",
       "      <td>0.2532</td>\n",
       "      <td>0.1424</td>\n",
       "      <td>0.1094</td>\n",
       "      <td>0.0278</td>\n",
       "      <td>0.4672</td>\n",
       "      <td>1.250483</td>\n",
       "      <td>0.003528</td>\n",
       "    </tr>\n",
       "    <tr>\n",
       "      <th>0</th>\n",
       "      <td>sampled_10000_round_0</td>\n",
       "      <td>distribution_oriented</td>\n",
       "      <td>10000</td>\n",
       "      <td>0.2478</td>\n",
       "      <td>0.1486</td>\n",
       "      <td>0.1014</td>\n",
       "      <td>0.0295</td>\n",
       "      <td>0.4727</td>\n",
       "      <td>2.199373</td>\n",
       "      <td>-0.002670</td>\n",
       "    </tr>\n",
       "    <tr>\n",
       "      <th>0</th>\n",
       "      <td>sampled_10000_round_1</td>\n",
       "      <td>distribution_oriented</td>\n",
       "      <td>10000</td>\n",
       "      <td>0.2595</td>\n",
       "      <td>0.1567</td>\n",
       "      <td>0.0991</td>\n",
       "      <td>0.0326</td>\n",
       "      <td>0.4521</td>\n",
       "      <td>2.173318</td>\n",
       "      <td>0.018339</td>\n",
       "    </tr>\n",
       "    <tr>\n",
       "      <th>0</th>\n",
       "      <td>sampled_10000_round_2</td>\n",
       "      <td>distribution_oriented</td>\n",
       "      <td>10000</td>\n",
       "      <td>0.2469</td>\n",
       "      <td>0.1511</td>\n",
       "      <td>0.1005</td>\n",
       "      <td>0.0290</td>\n",
       "      <td>0.4725</td>\n",
       "      <td>2.219160</td>\n",
       "      <td>-0.002459</td>\n",
       "    </tr>\n",
       "  </tbody>\n",
       "</table>\n",
       "</div>"
      ],
      "text/plain": [
       "                      id            how_to_walk  sample_size    gggg    hhhh  \\\n",
       "0                   real                   None      1000000  0.2500  0.1500   \n",
       "0    sampled_500_round_0  distribution_oriented          500  0.2380  0.1640   \n",
       "0    sampled_500_round_1  distribution_oriented          500  0.2780  0.1340   \n",
       "0    sampled_500_round_2  distribution_oriented          500  0.2220  0.1480   \n",
       "0   sampled_5000_round_0  distribution_oriented         5000  0.2494  0.1538   \n",
       "0   sampled_5000_round_1  distribution_oriented         5000  0.2580  0.1560   \n",
       "0   sampled_5000_round_2  distribution_oriented         5000  0.2532  0.1424   \n",
       "0  sampled_10000_round_0  distribution_oriented        10000  0.2478  0.1486   \n",
       "0  sampled_10000_round_1  distribution_oriented        10000  0.2595  0.1567   \n",
       "0  sampled_10000_round_2  distribution_oriented        10000  0.2469  0.1511   \n",
       "\n",
       "     mmmm    rrrr   other  running_time  kl_diver_from_real  \n",
       "0  0.1000  0.0300  0.4700           NaN            0.000000  \n",
       "0  0.0740  0.0260  0.4980      0.405200           -0.023076  \n",
       "0  0.0920  0.0240  0.4720      0.395519            0.001371  \n",
       "0  0.0920  0.0200  0.5180      0.395041           -0.044137  \n",
       "0  0.1078  0.0284  0.4606      1.270642            0.009788  \n",
       "0  0.0986  0.0264  0.4610      1.372470            0.009480  \n",
       "0  0.1094  0.0278  0.4672      1.250483            0.003528  \n",
       "0  0.1014  0.0295  0.4727      2.199373           -0.002670  \n",
       "0  0.0991  0.0326  0.4521      2.173318            0.018339  \n",
       "0  0.1005  0.0290  0.4725      2.219160           -0.002459  "
      ]
     },
     "execution_count": 370,
     "metadata": {},
     "output_type": "execute_result"
    }
   ],
   "source": [
    "random_sampling_df = _compute_kl_divergence_and_other_to_df(random_sampling_df)\n",
    "random_sampling_df[random_sampling_df['how_to_walk'].isin([WALKING_TECHNIQUE.DISTRIBUTION_ORIENTED,None])]"
   ]
  },
  {
   "cell_type": "code",
   "execution_count": 365,
   "metadata": {},
   "outputs": [
    {
     "data": {
      "image/png": "[encoded data removed]",
      "text/plain": [
       "<Figure size 1152x360 with 3 Axes>"
      ]
     },
     "metadata": {
      "needs_background": "light"
     },
     "output_type": "display_data"
    }
   ],
   "source": [
    "_draw_plots_comparing_algo_to_real(how_to_walk=WALKING_TECHNIQUE.DISTRIBUTION_ORIENTED ,df=random_sampling_df)"
   ]
  },
  {
   "cell_type": "code",
   "execution_count": 236,
   "metadata": {},
   "outputs": [
    {
     "data": {
      "text/plain": [
       "-0.0001804165664588796"
      ]
     },
     "execution_count": 236,
     "metadata": {},
     "output_type": "execute_result"
    }
   ],
   "source": [
    "random_sampling_distribution_walk = random_sampling_df[random_sampling_df['how_to_walk'].isin([WALKING_TECHNIQUE.DISTRIBUTION_ORIENTED])]\n",
    "random_sampling_distribution_walk[random_sampling_distribution_walk['sample_size']!=500]['kl_diver_from_real'].mean()"
   ]
  },
  {
   "cell_type": "markdown",
   "metadata": {},
   "source": [
    "### Comparing all the algorithms again, we another data distribution"
   ]
  },
  {
   "cell_type": "code",
   "execution_count": 391,
   "metadata": {},
   "outputs": [
    {
     "name": "stdout",
     "output_type": "stream",
     "text": [
      "generating 70000 values, chunk of 10000, with prefix='gggg'\n",
      "generating 40000 values, chunk of 10000, with prefix='hhhh'\n",
      "generating 50000 values, chunk of 10000, with prefix='mmmm'\n",
      "generating 30000 values, chunk of 10000, with prefix='rrrr'\n",
      "generating 810000 values, chunk of 10000, with prefix=''\n",
      "done generating 150000 values\n",
      "done generating 300000 values\n",
      "done generating 450000 values\n",
      "done generating 600000 values\n",
      "done generating 750000 values\n"
     ]
    }
   ],
   "source": [
    "prefix_to_percent_small = {\n",
    "    'gggg': 0.07,\n",
    "    'hhhh': 0.04,\n",
    "    'mmmm': 0.05,\n",
    "    'rrrr': 0.03,\n",
    "    '': 0.81\n",
    "}\n",
    "num_of_values = 1_000_000\n",
    "my_index_small = generate_btree_index_x_values_with_dist(num_of_values, prefix_to_percent_small)\n"
   ]
  },
  {
   "cell_type": "code",
   "execution_count": 400,
   "metadata": {},
   "outputs": [],
   "source": [
    "random_sampling_small_df = pd.DataFrame([{'id': 'real', 'how_to_walk': None, 'sample_size': len(my_index_small), **prefix_to_percent_small}])\n",
    "random_sampling_small_df.rename(columns={'': 'other'}, inplace=True)\n",
    "\n"
   ]
  },
  {
   "cell_type": "code",
   "execution_count": 401,
   "metadata": {},
   "outputs": [
    {
     "name": "stdout",
     "output_type": "stream",
     "text": [
      "2020-04-08 17:01:26.626172- i=0, sample_size=500\n",
      "2020-04-08 17:01:27.476183- i=1, sample_size=500\n",
      "2020-04-08 17:01:28.293363- i=2, sample_size=500\n",
      "2020-04-08 17:01:29.035006- i=0, sample_size=5000\n",
      "2020-04-08 17:01:35.830069- i=1, sample_size=5000\n",
      "2020-04-08 17:01:42.385062- i=2, sample_size=5000\n",
      "2020-04-08 17:01:49.040582- i=0, sample_size=10000\n",
      "2020-04-08 17:02:02.958777- i=1, sample_size=10000\n",
      "2020-04-08 17:02:17.150852- i=2, sample_size=10000\n"
     ]
    }
   ],
   "source": [
    "random_sampling_small_df = _random_sampling_to_measure(my_index_small, how_to_walk=WALKING_TECHNIQUE.RANDOM_WITH_TEST, df=random_sampling_small_df)\n"
   ]
  },
  {
   "cell_type": "code",
   "execution_count": 402,
   "metadata": {},
   "outputs": [],
   "source": [
    "random_sampling_small_df = _compute_kl_divergence_and_other_to_df(random_sampling_small_df)"
   ]
  },
  {
   "cell_type": "code",
   "execution_count": 403,
   "metadata": {},
   "outputs": [
    {
     "data": {
      "text/html": [
       "<div>\n",
       "<style scoped>\n",
       "    .dataframe tbody tr th:only-of-type {\n",
       "        vertical-align: middle;\n",
       "    }\n",
       "\n",
       "    .dataframe tbody tr th {\n",
       "        vertical-align: top;\n",
       "    }\n",
       "\n",
       "    .dataframe thead th {\n",
       "        text-align: right;\n",
       "    }\n",
       "</style>\n",
       "<table border=\"1\" class=\"dataframe\">\n",
       "  <thead>\n",
       "    <tr style=\"text-align: right;\">\n",
       "      <th></th>\n",
       "      <th>id</th>\n",
       "      <th>how_to_walk</th>\n",
       "      <th>sample_size</th>\n",
       "      <th>gggg</th>\n",
       "      <th>hhhh</th>\n",
       "      <th>mmmm</th>\n",
       "      <th>rrrr</th>\n",
       "      <th>other</th>\n",
       "      <th>running_time</th>\n",
       "      <th>kl_diver_from_real</th>\n",
       "    </tr>\n",
       "  </thead>\n",
       "  <tbody>\n",
       "    <tr>\n",
       "      <th>0</th>\n",
       "      <td>real</td>\n",
       "      <td>None</td>\n",
       "      <td>1000000</td>\n",
       "      <td>0.0700</td>\n",
       "      <td>0.0400</td>\n",
       "      <td>0.0500</td>\n",
       "      <td>0.0300</td>\n",
       "      <td>0.8100</td>\n",
       "      <td>NaN</td>\n",
       "      <td>0.000000</td>\n",
       "    </tr>\n",
       "    <tr>\n",
       "      <th>0</th>\n",
       "      <td>sampled_500_round_0</td>\n",
       "      <td>random_with_test</td>\n",
       "      <td>500</td>\n",
       "      <td>0.0860</td>\n",
       "      <td>0.0420</td>\n",
       "      <td>0.0580</td>\n",
       "      <td>0.0300</td>\n",
       "      <td>0.7840</td>\n",
       "      <td>0.845034</td>\n",
       "      <td>0.028361</td>\n",
       "    </tr>\n",
       "    <tr>\n",
       "      <th>0</th>\n",
       "      <td>sampled_500_round_1</td>\n",
       "      <td>random_with_test</td>\n",
       "      <td>500</td>\n",
       "      <td>0.0860</td>\n",
       "      <td>0.0340</td>\n",
       "      <td>0.0560</td>\n",
       "      <td>0.0380</td>\n",
       "      <td>0.7860</td>\n",
       "      <td>0.813802</td>\n",
       "      <td>0.027507</td>\n",
       "    </tr>\n",
       "    <tr>\n",
       "      <th>0</th>\n",
       "      <td>sampled_500_round_2</td>\n",
       "      <td>random_with_test</td>\n",
       "      <td>500</td>\n",
       "      <td>0.0820</td>\n",
       "      <td>0.0460</td>\n",
       "      <td>0.0480</td>\n",
       "      <td>0.0340</td>\n",
       "      <td>0.7900</td>\n",
       "      <td>0.738130</td>\n",
       "      <td>0.021700</td>\n",
       "    </tr>\n",
       "    <tr>\n",
       "      <th>0</th>\n",
       "      <td>sampled_5000_round_0</td>\n",
       "      <td>random_with_test</td>\n",
       "      <td>5000</td>\n",
       "      <td>0.0706</td>\n",
       "      <td>0.0412</td>\n",
       "      <td>0.0484</td>\n",
       "      <td>0.0324</td>\n",
       "      <td>0.8074</td>\n",
       "      <td>6.787559</td>\n",
       "      <td>0.002740</td>\n",
       "    </tr>\n",
       "    <tr>\n",
       "      <th>0</th>\n",
       "      <td>sampled_5000_round_1</td>\n",
       "      <td>random_with_test</td>\n",
       "      <td>5000</td>\n",
       "      <td>0.0678</td>\n",
       "      <td>0.0358</td>\n",
       "      <td>0.0494</td>\n",
       "      <td>0.0296</td>\n",
       "      <td>0.8174</td>\n",
       "      <td>6.549660</td>\n",
       "      <td>-0.007130</td>\n",
       "    </tr>\n",
       "    <tr>\n",
       "      <th>0</th>\n",
       "      <td>sampled_5000_round_2</td>\n",
       "      <td>random_with_test</td>\n",
       "      <td>5000</td>\n",
       "      <td>0.0734</td>\n",
       "      <td>0.0408</td>\n",
       "      <td>0.0474</td>\n",
       "      <td>0.0288</td>\n",
       "      <td>0.8096</td>\n",
       "      <td>6.649465</td>\n",
       "      <td>0.000582</td>\n",
       "    </tr>\n",
       "    <tr>\n",
       "      <th>0</th>\n",
       "      <td>sampled_10000_round_0</td>\n",
       "      <td>random_with_test</td>\n",
       "      <td>10000</td>\n",
       "      <td>0.0732</td>\n",
       "      <td>0.0406</td>\n",
       "      <td>0.0517</td>\n",
       "      <td>0.0287</td>\n",
       "      <td>0.8058</td>\n",
       "      <td>13.909439</td>\n",
       "      <td>0.004334</td>\n",
       "    </tr>\n",
       "    <tr>\n",
       "      <th>0</th>\n",
       "      <td>sampled_10000_round_1</td>\n",
       "      <td>random_with_test</td>\n",
       "      <td>10000</td>\n",
       "      <td>0.0616</td>\n",
       "      <td>0.0425</td>\n",
       "      <td>0.0489</td>\n",
       "      <td>0.0293</td>\n",
       "      <td>0.8177</td>\n",
       "      <td>14.182650</td>\n",
       "      <td>-0.007078</td>\n",
       "    </tr>\n",
       "    <tr>\n",
       "      <th>0</th>\n",
       "      <td>sampled_10000_round_2</td>\n",
       "      <td>random_with_test</td>\n",
       "      <td>10000</td>\n",
       "      <td>0.0697</td>\n",
       "      <td>0.0401</td>\n",
       "      <td>0.0488</td>\n",
       "      <td>0.0280</td>\n",
       "      <td>0.8134</td>\n",
       "      <td>14.807026</td>\n",
       "      <td>-0.003317</td>\n",
       "    </tr>\n",
       "  </tbody>\n",
       "</table>\n",
       "</div>"
      ],
      "text/plain": [
       "                      id       how_to_walk  sample_size    gggg    hhhh  \\\n",
       "0                   real              None      1000000  0.0700  0.0400   \n",
       "0    sampled_500_round_0  random_with_test          500  0.0860  0.0420   \n",
       "0    sampled_500_round_1  random_with_test          500  0.0860  0.0340   \n",
       "0    sampled_500_round_2  random_with_test          500  0.0820  0.0460   \n",
       "0   sampled_5000_round_0  random_with_test         5000  0.0706  0.0412   \n",
       "0   sampled_5000_round_1  random_with_test         5000  0.0678  0.0358   \n",
       "0   sampled_5000_round_2  random_with_test         5000  0.0734  0.0408   \n",
       "0  sampled_10000_round_0  random_with_test        10000  0.0732  0.0406   \n",
       "0  sampled_10000_round_1  random_with_test        10000  0.0616  0.0425   \n",
       "0  sampled_10000_round_2  random_with_test        10000  0.0697  0.0401   \n",
       "\n",
       "     mmmm    rrrr   other  running_time  kl_diver_from_real  \n",
       "0  0.0500  0.0300  0.8100           NaN            0.000000  \n",
       "0  0.0580  0.0300  0.7840      0.845034            0.028361  \n",
       "0  0.0560  0.0380  0.7860      0.813802            0.027507  \n",
       "0  0.0480  0.0340  0.7900      0.738130            0.021700  \n",
       "0  0.0484  0.0324  0.8074      6.787559            0.002740  \n",
       "0  0.0494  0.0296  0.8174      6.549660           -0.007130  \n",
       "0  0.0474  0.0288  0.8096      6.649465            0.000582  \n",
       "0  0.0517  0.0287  0.8058     13.909439            0.004334  \n",
       "0  0.0489  0.0293  0.8177     14.182650           -0.007078  \n",
       "0  0.0488  0.0280  0.8134     14.807026           -0.003317  "
      ]
     },
     "execution_count": 403,
     "metadata": {},
     "output_type": "execute_result"
    }
   ],
   "source": [
    "random_sampling_small_df"
   ]
  },
  {
   "cell_type": "code",
   "execution_count": null,
   "metadata": {},
   "outputs": [],
   "source": []
  }
 ],
 "metadata": {
  "kernelspec": {
   "display_name": "Python 3",
   "language": "python",
   "name": "python3"
  },
  "language_info": {
   "codemirror_mode": {
    "name": "ipython",
    "version": 3
   },
   "file_extension": ".py",
   "mimetype": "text/x-python",
   "name": "python",
   "nbconvert_exporter": "python",
   "pygments_lexer": "ipython3",
   "version": "3.6.11"
  }
 },
 "nbformat": 4,
 "nbformat_minor": 4
}
