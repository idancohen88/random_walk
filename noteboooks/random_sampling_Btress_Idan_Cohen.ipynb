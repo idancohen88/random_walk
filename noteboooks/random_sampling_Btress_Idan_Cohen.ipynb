{
 "cells": [
  {
   "cell_type": "code",
   "execution_count": 8,
   "metadata": {},
   "outputs": [
    {
     "name": "stdout",
     "output_type": "stream",
     "text": [
      "env: PURE_PYTHON=True\n"
     ]
    }
   ],
   "source": [
    "%env PURE_PYTHON True\n",
    "%matplotlib inline\n",
    "\n",
    "import matplotlib\n",
    "import matplotlib.pyplot as plt\n",
    "\n",
    "from datetime import datetime\n",
    "from BTrees.OOBTree import OOBTree\n",
    "import numpy as np\n",
    "from collections import Counter\n",
    "from scipy import stats\n",
    "import pandas as pd\n",
    "import pprint\n",
    "import timeit\n",
    "\n",
    "CHUNKS_SIZE = 10000\n",
    "KEY_LENGTH = 8\n",
    "ALPHABET = 'abcdefghijklmnopqrstuvwxyzABCDEFGHIJKLMNOPQRSTUVWXYZ'"
   ]
  },
  {
   "cell_type": "markdown",
   "metadata": {},
   "source": [
    "## Let's write an extenstion for doing a random walk, supporting the 3 approches in the article\n",
    "We will use WALKING_TECHNIQUE enum to try every different approach.\n"
   ]
  },
  {
   "cell_type": "code",
   "execution_count": 9,
   "metadata": {},
   "outputs": [],
   "source": [
    "from collections import Counter\n",
    "import numpy as np\n",
    "from BTrees.OOBTree import OOBTree\n",
    "\n",
    "\n",
    "_debug_random_sampling = []\n",
    "\n",
    "\n",
    "class WALKING_TECHNIQUE:\n",
    "    RANDOM = 'random'\n",
    "    RANDOM_WITH_TEST = 'random_with_test'\n",
    "    OLKEN_EARLY_ABORT = 'olken_early_abort'\n",
    "    DISTRIBUTION_ORIENTED = 'distribution_oriented'\n",
    "\n",
    "\n",
    "class OOBTreeExt(OOBTree):\n",
    "\n",
    "    def __init__(self):\n",
    "        super(OOBTreeExt, self).__init__()\n",
    "        self.walking_path_to_fanout_distribution = {}\n",
    "\n",
    "    def random_sampling(self, k, how_to_walk):\n",
    "        self.walking_path_to_fanout_distribution = {}\n",
    "        all_accept_reject_measures = {\n",
    "            'accept': [],\n",
    "            'reject': [],\n",
    "            'revisited_paths': Counter()\n",
    "        }\n",
    "\n",
    "        k = min(len(self), k)\n",
    "        sampled_values = []\n",
    "        all_walking_paths_set = set()\n",
    "        while len(sampled_values) < k:\n",
    "            sampled_value, walking_path, acc_rej_test_acceptance_prob = \\\n",
    "                self._get_value_and_path_by_random_walk_from_node(node=self,\n",
    "                    how_to_walk=how_to_walk)\n",
    "\n",
    "            if _this_value_was_sampled_already(walking_path, all_walking_paths_set):\n",
    "                all_accept_reject_measures['revisited_paths'][str(walking_path)] += 1\n",
    "                continue\n",
    "\n",
    "            accept_reject_measures = {\n",
    "                'path': walking_path,\n",
    "                'value': sampled_value,\n",
    "                'acceptance_prob': acc_rej_test_acceptance_prob\n",
    "            }\n",
    "\n",
    "            if how_to_walk == WALKING_TECHNIQUE.RANDOM_WITH_TEST and not _accept_reject_test_pass(\n",
    "                    acc_rej_test_acceptance_prob):\n",
    "                all_accept_reject_measures['reject'].append(accept_reject_measures)\n",
    "                continue\n",
    "\n",
    "            all_accept_reject_measures['accept'].append(accept_reject_measures)\n",
    "\n",
    "            all_walking_paths_set.add(str(walking_path))\n",
    "            sampled_values.append(sampled_value)\n",
    "\n",
    "        add_to_debug_global(locals())\n",
    "\n",
    "        return sampled_values\n",
    "\n",
    "    def _get_value_and_path_by_random_walk_from_node(self, node, how_to_walk):\n",
    "        walking_path = []\n",
    "        current_node = node\n",
    "        acc_rej_test_acceptance_prob = 1\n",
    "        acc_rej_test_max_fan_out = None\n",
    "\n",
    "        while not isinstance(current_node, self._bucket_type):\n",
    "            if how_to_walk == WALKING_TECHNIQUE.RANDOM_WITH_TEST:\n",
    "                acc_rej_test_max_fan_out = self.max_internal_size\n",
    "                next_random_step = np.random.randint(low=0, high=current_node.size)\n",
    "            elif how_to_walk == WALKING_TECHNIQUE.DISTRIBUTION_ORIENTED:\n",
    "                next_random_step = self._random_next_move_respect_fanout_prob(current_node, walking_path)\n",
    "            else:\n",
    "                assert how_to_walk == WALKING_TECHNIQUE.RANDOM\n",
    "                next_random_step = np.random.randint(low=0, high=current_node.size)\n",
    "\n",
    "            current_node = current_node._data[next_random_step].child\n",
    "\n",
    "            if how_to_walk == WALKING_TECHNIQUE.RANDOM_WITH_TEST:\n",
    "                acc_rej_test_acceptance_prob *= (current_node.size / acc_rej_test_max_fan_out)\n",
    "\n",
    "            walking_path.append((next_random_step, current_node.size, acc_rej_test_max_fan_out))\n",
    "\n",
    "        next_random_step = np.random.randint(low=0, high=current_node.size)\n",
    "        walking_path.append((next_random_step, current_node.size, acc_rej_test_max_fan_out))\n",
    "\n",
    "        leaf = current_node._keys\n",
    "        return leaf[next_random_step], walking_path, acc_rej_test_acceptance_prob\n",
    "\n",
    "    def _get_path_to_bucket_of_value(self, key):\n",
    "        path = []\n",
    "        current_node = self._data\n",
    "\n",
    "        index = self._search(key)\n",
    "        # TODO: im not sure what _search('M') return 0, check it\n",
    "        if index >= 0:  # TODO: else?\n",
    "            if isinstance(self._data[index].child, self._bucket_type):\n",
    "                index_in_leaf = _find_first_greather_value_in_list(self._data[index].child._values,\n",
    "                    key)\n",
    "                return [index, index_in_leaf]\n",
    "            path_from_child = self._data[index].child._get_path_to_bucket_of_value(key)\n",
    "            path_from_child = [index] + path_from_child\n",
    "        else:\n",
    "            raise  # TODO!\n",
    "        return path_from_child\n",
    "\n",
    "\n",
    "    def _random_next_move_respect_fanout_prob(self, current_node, walking_path):\n",
    "        walking_path_str = str(walking_path)\n",
    "        if walking_path_str in self.walking_path_to_fanout_distribution:\n",
    "            node_distribution = self.walking_path_to_fanout_distribution[walking_path_str]\n",
    "        else:\n",
    "            all_sizes = np.array([node.child.size for node in current_node._data])\n",
    "            node_distribution = all_sizes / sum(all_sizes)\n",
    "            self.walking_path_to_fanout_distribution[walking_path_str] = node_distribution\n",
    "\n",
    "        return np.random.choice(current_node.size, p=node_distribution)\n",
    "\n",
    "\n",
    "def _find_first_greather_value_in_list(sorted_list, key):\n",
    "    values_greater_than_key = [index for index, val in enumerate(sorted_list) if val >= key]\n",
    "    if values_greater_than_key:\n",
    "        return values_greater_than_key[0]\n",
    "    return len(sorted_list) - 1\n",
    "\n",
    "\n",
    "def add_to_debug_global(all_vars):\n",
    "    global _debug_random_sampling\n",
    "    _debug_random_sampling.append({\n",
    "        'params': {\n",
    "            'k': all_vars['k'],\n",
    "            'how_to_walk': all_vars['how_to_walk'],\n",
    "        },\n",
    "        'all_accept_reject_measures': all_vars['all_accept_reject_measures']\n",
    "    })\n",
    "\n",
    "\n",
    "def _this_value_was_sampled_already(walking_path, all_walking_paths_set):\n",
    "    return str(walking_path) in all_walking_paths_set\n",
    "\n",
    "\n",
    "def _get_max_fan_out_for_(current_node):\n",
    "    return np.max([node_data.child.size for node_data in current_node._data])\n",
    "\n",
    "\n",
    "def _accept_reject_test_pass(acceptance_prob):\n",
    "    rand_num = np.random.random_sample()\n",
    "    return rand_num < acceptance_prob\n",
    "\n"
   ]
  },
  {
   "cell_type": "code",
   "execution_count": 10,
   "metadata": {},
   "outputs": [],
   "source": [
    "def generate_btree_index_x_values_with_dist(num_of_values, disired_prefix_to_percent_dist):\n",
    "    my_index = OOBTreeExt()\n",
    "    for prefix, amount_percent in disired_prefix_to_percent_dist.items():\n",
    "        amount = int(num_of_values * amount_percent)\n",
    "        my_index = insert_to_index_random(my_index, amount, prefix)\n",
    "    \n",
    "    return my_index\n",
    "\n",
    "\n",
    "def insert_to_index_random(my_index, amount, prefix=''):\n",
    "    amount_in_iteration = min(CHUNKS_SIZE, amount)\n",
    "    print('generating %s values, chunk of %s, with prefix=\\'%s\\'' %(amount, amount_in_iteration, prefix))\n",
    "\n",
    "    proceed = 0\n",
    "    for i in range(0, amount, amount_in_iteration):\n",
    "        alphabet = list(ALPHABET)\n",
    "        np_alphabet = np.array(alphabet)\n",
    "        np_codes = np.random.choice(np_alphabet, [amount_in_iteration, KEY_LENGTH])\n",
    "        my_index.update({\n",
    "            prefix + ''.join(np_codes[i]): \"\".join(np_codes[i])\n",
    "            for i in range(len(np_codes))\n",
    "        })\n",
    "\n",
    "        proceed += amount_in_iteration\n",
    "        if (proceed % 150000) == 0:\n",
    "            print('done generating %s values' % (proceed))\n",
    "    return my_index"
   ]
  },
  {
   "cell_type": "markdown",
   "metadata": {},
   "source": [
    "## Tools for analyze results"
   ]
  },
  {
   "cell_type": "code",
   "execution_count": 12,
   "metadata": {},
   "outputs": [],
   "source": [
    "def kl_divergence(p, q):\n",
    "    return np.sum(np.where(p != 0, p * np.log(p / q), 0))\n",
    "\n",
    "def _calculate_prefix_ditribution(values):\n",
    "    return {value: occurences/len(values) for value, occurences in Counter([key[:4] for key in values]).most_common(10)}\n",
    "\n",
    "def _compute_kl_divergence_and_other_to_df(df):\n",
    "    dist_vec_real = df[['gggg','hhhh','mmmm','rrrr']].values[0]\n",
    "    df['other'] = 1 - df[['gggg', 'hhhh', 'mmmm', 'rrrr']].sum(axis=1)\n",
    "    df['kl_diver_from_real'] = df[['gggg','hhhh','mmmm','rrrr']].apply(kl_divergence, axis=1, args=(dist_vec_real,))\n",
    "    return df\n",
    "\n",
    "def _draw_plots_comparing_algo_to_real(how_to_walk, df):\n",
    "    fig, axes = plt.subplots(nrows=1, ncols=3, figsize=(16,5))\n",
    "    for i, sample_size in enumerate([500, 5000, 10000]):\n",
    "        # TODO: instead of None, write explicity access to the row with the real values\n",
    "        df_by_walk = df[df['how_to_walk'].isin([how_to_walk, None])] \n",
    "        df_by_walk_and_sample = df_by_walk[df_by_walk['sample_size'].isin([sample_size,1_000_000])]\n",
    "        df_by_walk_and_sample = df_by_walk_and_sample.drop(\n",
    "            ['sample_size' ,'kl_diver_from_real','running_time'], axis=1)\n",
    "        df_by_walk_and_sample.plot(kind='bar', ax=axes[i], x='id')\n",
    "\n",
    "\n",
    "\n",
    "def _random_sampling_to_measure(my_index, how_to_walk, df, sample_sizes=None, times_each=None):\n",
    "    sample_sizes = sample_sizes or (500, 5_000, 10_000)\n",
    "    times_each = times_each or list(range(3))\n",
    "    for sample_size in sample_sizes:\n",
    "        for i in times_each:\n",
    "            print (f'i={i}, sample_size={sample_size}')\n",
    "            start_time = timeit.default_timer()\n",
    "            samples = my_index.random_sampling(k=sample_size, how_to_walk=how_to_walk)\n",
    "            time_passed = timeit.default_timer() - start_time\n",
    "            assert len(samples) == sample_size\n",
    "            samples_dist = _calculate_prefix_ditribution(samples)\n",
    "            df = df.append([\n",
    "                {'id': f'sampled_{sample_size}_round_{i}', 'how_to_walk': how_to_walk, 'sample_size': sample_size ,\n",
    "                 'running_time': time_passed,\n",
    "                 **{x:y for x,y in samples_dist.items() if x in prefix_to_percent}}])\n",
    "            print (f'i={i}, sample_size={sample_size}')\n",
    "    return df\n"
   ]
  },
  {
   "cell_type": "markdown",
   "metadata": {},
   "source": [
    "## Creating the synthetic data"
   ]
  },
  {
   "cell_type": "code",
   "execution_count": 13,
   "metadata": {},
   "outputs": [
    {
     "name": "stdout",
     "output_type": "stream",
     "text": [
      "generating 250000 values, chunk of 10000, with prefix='gggg'\n",
      "done generating 150000 values\n",
      "generating 150000 values, chunk of 10000, with prefix='hhhh'\n",
      "done generating 150000 values\n",
      "generating 100000 values, chunk of 10000, with prefix='mmmm'\n",
      "generating 30000 values, chunk of 10000, with prefix='rrrr'\n",
      "generating 470000 values, chunk of 10000, with prefix=''\n",
      "done generating 150000 values\n",
      "done generating 300000 values\n",
      "done generating 450000 values\n"
     ]
    }
   ],
   "source": [
    "prefix_to_percent = {\n",
    "    'gggg': 0.25,\n",
    "    'hhhh': 0.15,\n",
    "    'mmmm': 0.10,\n",
    "    'rrrr': 0.03,\n",
    "    '': 0.47\n",
    "}\n",
    "num_of_values = 1_000_000\n",
    "my_index = generate_btree_index_x_values_with_dist(num_of_values, prefix_to_percent)\n",
    "\n",
    "#my_index_backup_values = list(my_index.keys())\n"
   ]
  },
  {
   "cell_type": "code",
   "execution_count": 14,
   "metadata": {},
   "outputs": [],
   "source": [
    "prefix_to_percent_abs = {key:int(value * num_of_values) for key, value in prefix_to_percent.items()}\n",
    "results_data_distribution = Counter([key[:4] if key[:4] in prefix_to_percent else '' for key in my_index.keys()])\n",
    "\n",
    "assert prefix_to_percent_abs == results_data_distribution"
   ]
  },
  {
   "cell_type": "code",
   "execution_count": 15,
   "metadata": {
    "scrolled": true
   },
   "outputs": [],
   "source": [
    "results_prefix_to_percent = {key:value / num_of_values for key, value in results_data_distribution.items()}"
   ]
  },
  {
   "cell_type": "code",
   "execution_count": 16,
   "metadata": {},
   "outputs": [
    {
     "data": {
      "text/plain": [
       "{'': 0.47, 'gggg': 0.25, 'hhhh': 0.15, 'mmmm': 0.1, 'rrrr': 0.03}"
      ]
     },
     "execution_count": 16,
     "metadata": {},
     "output_type": "execute_result"
    }
   ],
   "source": [
    "results_prefix_to_percent"
   ]
  },
  {
   "cell_type": "code",
   "execution_count": 17,
   "metadata": {},
   "outputs": [],
   "source": [
    "my_index_c = OOBTreeExt()\n",
    "my_index_c.update({key:key for key in my_index.keys()})\n",
    "my_index = my_index_c"
   ]
  },
  {
   "cell_type": "markdown",
   "metadata": {},
   "source": [
    "## Random Sampling - K random Walks"
   ]
  },
  {
   "cell_type": "code",
   "execution_count": 13,
   "metadata": {},
   "outputs": [],
   "source": [
    "random_sampling_df = pd.DataFrame([{'id': 'real', 'how_to_walk': None, 'sample_size': len(my_index), **prefix_to_percent}])\n",
    "random_sampling_df.rename(columns={'': 'other'}, inplace=True)\n",
    "\n"
   ]
  },
  {
   "cell_type": "code",
   "execution_count": 14,
   "metadata": {},
   "outputs": [
    {
     "name": "stdout",
     "output_type": "stream",
     "text": [
      "i=0, sample_size=500\n",
      "i=1, sample_size=500\n",
      "i=2, sample_size=500\n",
      "i=0, sample_size=5000\n",
      "i=1, sample_size=5000\n",
      "i=2, sample_size=5000\n",
      "i=0, sample_size=10000\n",
      "i=1, sample_size=10000\n",
      "i=2, sample_size=10000\n"
     ]
    }
   ],
   "source": [
    "random_sampling_df = _random_sampling_to_measure(my_index, how_to_walk=WALKING_TECHNIQUE.RANDOM, df=random_sampling_df)\n"
   ]
  },
  {
   "cell_type": "code",
   "execution_count": 15,
   "metadata": {},
   "outputs": [
    {
     "data": {
      "text/html": [
       "<div>\n",
       "<style scoped>\n",
       "    .dataframe tbody tr th:only-of-type {\n",
       "        vertical-align: middle;\n",
       "    }\n",
       "\n",
       "    .dataframe tbody tr th {\n",
       "        vertical-align: top;\n",
       "    }\n",
       "\n",
       "    .dataframe thead th {\n",
       "        text-align: right;\n",
       "    }\n",
       "</style>\n",
       "<table border=\"1\" class=\"dataframe\">\n",
       "  <thead>\n",
       "    <tr style=\"text-align: right;\">\n",
       "      <th></th>\n",
       "      <th>id</th>\n",
       "      <th>how_to_walk</th>\n",
       "      <th>sample_size</th>\n",
       "      <th>gggg</th>\n",
       "      <th>hhhh</th>\n",
       "      <th>mmmm</th>\n",
       "      <th>rrrr</th>\n",
       "      <th>other</th>\n",
       "      <th>running_time</th>\n",
       "      <th>kl_diver_from_real</th>\n",
       "    </tr>\n",
       "  </thead>\n",
       "  <tbody>\n",
       "    <tr>\n",
       "      <th>0</th>\n",
       "      <td>real</td>\n",
       "      <td>None</td>\n",
       "      <td>1000000</td>\n",
       "      <td>0.2500</td>\n",
       "      <td>0.1500</td>\n",
       "      <td>0.1000</td>\n",
       "      <td>0.0300</td>\n",
       "      <td>0.4700</td>\n",
       "      <td>NaN</td>\n",
       "      <td>0.000000</td>\n",
       "    </tr>\n",
       "    <tr>\n",
       "      <th>0</th>\n",
       "      <td>sampled_500_round_0</td>\n",
       "      <td>random</td>\n",
       "      <td>500</td>\n",
       "      <td>0.2360</td>\n",
       "      <td>0.2160</td>\n",
       "      <td>0.1240</td>\n",
       "      <td>0.0460</td>\n",
       "      <td>0.3780</td>\n",
       "      <td>0.172932</td>\n",
       "      <td>0.111499</td>\n",
       "    </tr>\n",
       "    <tr>\n",
       "      <th>0</th>\n",
       "      <td>sampled_500_round_1</td>\n",
       "      <td>random</td>\n",
       "      <td>500</td>\n",
       "      <td>0.2200</td>\n",
       "      <td>0.2200</td>\n",
       "      <td>0.1220</td>\n",
       "      <td>0.0420</td>\n",
       "      <td>0.3960</td>\n",
       "      <td>0.162803</td>\n",
       "      <td>0.094527</td>\n",
       "    </tr>\n",
       "    <tr>\n",
       "      <th>0</th>\n",
       "      <td>sampled_500_round_2</td>\n",
       "      <td>random</td>\n",
       "      <td>500</td>\n",
       "      <td>0.1800</td>\n",
       "      <td>0.2480</td>\n",
       "      <td>0.1060</td>\n",
       "      <td>0.0380</td>\n",
       "      <td>0.4280</td>\n",
       "      <td>0.161431</td>\n",
       "      <td>0.080721</td>\n",
       "    </tr>\n",
       "    <tr>\n",
       "      <th>0</th>\n",
       "      <td>sampled_5000_round_0</td>\n",
       "      <td>random</td>\n",
       "      <td>5000</td>\n",
       "      <td>0.2296</td>\n",
       "      <td>0.2170</td>\n",
       "      <td>0.1146</td>\n",
       "      <td>0.0346</td>\n",
       "      <td>0.4042</td>\n",
       "      <td>0.400637</td>\n",
       "      <td>0.081139</td>\n",
       "    </tr>\n",
       "    <tr>\n",
       "      <th>0</th>\n",
       "      <td>sampled_5000_round_1</td>\n",
       "      <td>random</td>\n",
       "      <td>5000</td>\n",
       "      <td>0.2286</td>\n",
       "      <td>0.2044</td>\n",
       "      <td>0.1174</td>\n",
       "      <td>0.0290</td>\n",
       "      <td>0.4206</td>\n",
       "      <td>0.398621</td>\n",
       "      <td>0.060643</td>\n",
       "    </tr>\n",
       "    <tr>\n",
       "      <th>0</th>\n",
       "      <td>sampled_5000_round_2</td>\n",
       "      <td>random</td>\n",
       "      <td>5000</td>\n",
       "      <td>0.2342</td>\n",
       "      <td>0.2104</td>\n",
       "      <td>0.1136</td>\n",
       "      <td>0.0330</td>\n",
       "      <td>0.4088</td>\n",
       "      <td>0.408026</td>\n",
       "      <td>0.073535</td>\n",
       "    </tr>\n",
       "    <tr>\n",
       "      <th>0</th>\n",
       "      <td>sampled_10000_round_0</td>\n",
       "      <td>random</td>\n",
       "      <td>10000</td>\n",
       "      <td>0.2304</td>\n",
       "      <td>0.2191</td>\n",
       "      <td>0.1109</td>\n",
       "      <td>0.0348</td>\n",
       "      <td>0.4048</td>\n",
       "      <td>0.653509</td>\n",
       "      <td>0.080843</td>\n",
       "    </tr>\n",
       "    <tr>\n",
       "      <th>0</th>\n",
       "      <td>sampled_10000_round_1</td>\n",
       "      <td>random</td>\n",
       "      <td>10000</td>\n",
       "      <td>0.2265</td>\n",
       "      <td>0.2163</td>\n",
       "      <td>0.1144</td>\n",
       "      <td>0.0342</td>\n",
       "      <td>0.4086</td>\n",
       "      <td>0.659622</td>\n",
       "      <td>0.076685</td>\n",
       "    </tr>\n",
       "    <tr>\n",
       "      <th>0</th>\n",
       "      <td>sampled_10000_round_2</td>\n",
       "      <td>random</td>\n",
       "      <td>10000</td>\n",
       "      <td>0.2225</td>\n",
       "      <td>0.2122</td>\n",
       "      <td>0.1171</td>\n",
       "      <td>0.0346</td>\n",
       "      <td>0.4136</td>\n",
       "      <td>0.635145</td>\n",
       "      <td>0.071103</td>\n",
       "    </tr>\n",
       "  </tbody>\n",
       "</table>\n",
       "</div>"
      ],
      "text/plain": [
       "                      id how_to_walk  sample_size    gggg    hhhh    mmmm  \\\n",
       "0                   real        None      1000000  0.2500  0.1500  0.1000   \n",
       "0    sampled_500_round_0      random          500  0.2360  0.2160  0.1240   \n",
       "0    sampled_500_round_1      random          500  0.2200  0.2200  0.1220   \n",
       "0    sampled_500_round_2      random          500  0.1800  0.2480  0.1060   \n",
       "0   sampled_5000_round_0      random         5000  0.2296  0.2170  0.1146   \n",
       "0   sampled_5000_round_1      random         5000  0.2286  0.2044  0.1174   \n",
       "0   sampled_5000_round_2      random         5000  0.2342  0.2104  0.1136   \n",
       "0  sampled_10000_round_0      random        10000  0.2304  0.2191  0.1109   \n",
       "0  sampled_10000_round_1      random        10000  0.2265  0.2163  0.1144   \n",
       "0  sampled_10000_round_2      random        10000  0.2225  0.2122  0.1171   \n",
       "\n",
       "     rrrr   other  running_time  kl_diver_from_real  \n",
       "0  0.0300  0.4700           NaN            0.000000  \n",
       "0  0.0460  0.3780      0.172932            0.111499  \n",
       "0  0.0420  0.3960      0.162803            0.094527  \n",
       "0  0.0380  0.4280      0.161431            0.080721  \n",
       "0  0.0346  0.4042      0.400637            0.081139  \n",
       "0  0.0290  0.4206      0.398621            0.060643  \n",
       "0  0.0330  0.4088      0.408026            0.073535  \n",
       "0  0.0348  0.4048      0.653509            0.080843  \n",
       "0  0.0342  0.4086      0.659622            0.076685  \n",
       "0  0.0346  0.4136      0.635145            0.071103  "
      ]
     },
     "execution_count": 15,
     "metadata": {},
     "output_type": "execute_result"
    }
   ],
   "source": [
    "random_sampling_df = _compute_kl_divergence_and_other_to_df(random_sampling_df)\n",
    "random_sampling_df[random_sampling_df['how_to_walk'].isin([WALKING_TECHNIQUE.RANDOM,None])]"
   ]
  },
  {
   "cell_type": "code",
   "execution_count": 16,
   "metadata": {},
   "outputs": [
    {
     "data": {
      "image/png": "[encoded data removed]",
      "text/plain": [
       "<Figure size 1152x360 with 3 Axes>"
      ]
     },
     "metadata": {
      "needs_background": "light"
     },
     "output_type": "display_data"
    }
   ],
   "source": [
    "_draw_plots_comparing_algo_to_real(how_to_walk=WALKING_TECHNIQUE.RANDOM ,df=random_sampling_df)\n"
   ]
  },
  {
   "cell_type": "markdown",
   "metadata": {},
   "source": [
    "## Acceptance/Rejection Sampling from a B+ tree - Naive method"
   ]
  },
  {
   "cell_type": "code",
   "execution_count": 17,
   "metadata": {},
   "outputs": [
    {
     "name": "stdout",
     "output_type": "stream",
     "text": [
      "i=0, sample_size=500\n",
      "i=1, sample_size=500\n",
      "i=2, sample_size=500\n",
      "i=0, sample_size=5000\n",
      "i=1, sample_size=5000\n",
      "i=2, sample_size=5000\n",
      "i=0, sample_size=10000\n",
      "i=1, sample_size=10000\n",
      "i=2, sample_size=10000\n"
     ]
    }
   ],
   "source": [
    "random_sampling_df = _random_sampling_to_measure(my_index, how_to_walk=WALKING_TECHNIQUE.RANDOM_WITH_TEST, df=random_sampling_df)\n"
   ]
  },
  {
   "cell_type": "code",
   "execution_count": 18,
   "metadata": {
    "scrolled": false
   },
   "outputs": [
    {
     "data": {
      "text/html": [
       "<div>\n",
       "<style scoped>\n",
       "    .dataframe tbody tr th:only-of-type {\n",
       "        vertical-align: middle;\n",
       "    }\n",
       "\n",
       "    .dataframe tbody tr th {\n",
       "        vertical-align: top;\n",
       "    }\n",
       "\n",
       "    .dataframe thead th {\n",
       "        text-align: right;\n",
       "    }\n",
       "</style>\n",
       "<table border=\"1\" class=\"dataframe\">\n",
       "  <thead>\n",
       "    <tr style=\"text-align: right;\">\n",
       "      <th></th>\n",
       "      <th>id</th>\n",
       "      <th>how_to_walk</th>\n",
       "      <th>sample_size</th>\n",
       "      <th>gggg</th>\n",
       "      <th>hhhh</th>\n",
       "      <th>mmmm</th>\n",
       "      <th>rrrr</th>\n",
       "      <th>other</th>\n",
       "      <th>running_time</th>\n",
       "      <th>kl_diver_from_real</th>\n",
       "    </tr>\n",
       "  </thead>\n",
       "  <tbody>\n",
       "    <tr>\n",
       "      <th>0</th>\n",
       "      <td>real</td>\n",
       "      <td>None</td>\n",
       "      <td>1000000</td>\n",
       "      <td>0.2500</td>\n",
       "      <td>0.1500</td>\n",
       "      <td>0.1000</td>\n",
       "      <td>0.0300</td>\n",
       "      <td>0.4700</td>\n",
       "      <td>NaN</td>\n",
       "      <td>0.000000</td>\n",
       "    </tr>\n",
       "    <tr>\n",
       "      <th>0</th>\n",
       "      <td>sampled_500_round_0</td>\n",
       "      <td>random_with_test</td>\n",
       "      <td>500</td>\n",
       "      <td>0.2620</td>\n",
       "      <td>0.1720</td>\n",
       "      <td>0.0980</td>\n",
       "      <td>0.0260</td>\n",
       "      <td>0.4420</td>\n",
       "      <td>1.565768</td>\n",
       "      <td>0.030123</td>\n",
       "    </tr>\n",
       "    <tr>\n",
       "      <th>0</th>\n",
       "      <td>sampled_500_round_1</td>\n",
       "      <td>random_with_test</td>\n",
       "      <td>500</td>\n",
       "      <td>0.2440</td>\n",
       "      <td>0.1520</td>\n",
       "      <td>0.1000</td>\n",
       "      <td>0.0400</td>\n",
       "      <td>0.4640</td>\n",
       "      <td>1.615888</td>\n",
       "      <td>0.007593</td>\n",
       "    </tr>\n",
       "    <tr>\n",
       "      <th>0</th>\n",
       "      <td>sampled_500_round_2</td>\n",
       "      <td>random_with_test</td>\n",
       "      <td>500</td>\n",
       "      <td>0.2540</td>\n",
       "      <td>0.1620</td>\n",
       "      <td>0.1160</td>\n",
       "      <td>0.0220</td>\n",
       "      <td>0.4460</td>\n",
       "      <td>1.573907</td>\n",
       "      <td>0.026893</td>\n",
       "    </tr>\n",
       "    <tr>\n",
       "      <th>0</th>\n",
       "      <td>sampled_5000_round_0</td>\n",
       "      <td>random_with_test</td>\n",
       "      <td>5000</td>\n",
       "      <td>0.2634</td>\n",
       "      <td>0.1434</td>\n",
       "      <td>0.1006</td>\n",
       "      <td>0.0304</td>\n",
       "      <td>0.4622</td>\n",
       "      <td>14.794833</td>\n",
       "      <td>0.008305</td>\n",
       "    </tr>\n",
       "    <tr>\n",
       "      <th>0</th>\n",
       "      <td>sampled_5000_round_1</td>\n",
       "      <td>random_with_test</td>\n",
       "      <td>5000</td>\n",
       "      <td>0.2414</td>\n",
       "      <td>0.1526</td>\n",
       "      <td>0.1020</td>\n",
       "      <td>0.0308</td>\n",
       "      <td>0.4732</td>\n",
       "      <td>14.317290</td>\n",
       "      <td>-0.002998</td>\n",
       "    </tr>\n",
       "    <tr>\n",
       "      <th>0</th>\n",
       "      <td>sampled_5000_round_2</td>\n",
       "      <td>random_with_test</td>\n",
       "      <td>5000</td>\n",
       "      <td>0.2428</td>\n",
       "      <td>0.1526</td>\n",
       "      <td>0.0966</td>\n",
       "      <td>0.0304</td>\n",
       "      <td>0.4776</td>\n",
       "      <td>14.216488</td>\n",
       "      <td>-0.007412</td>\n",
       "    </tr>\n",
       "    <tr>\n",
       "      <th>0</th>\n",
       "      <td>sampled_10000_round_0</td>\n",
       "      <td>random_with_test</td>\n",
       "      <td>10000</td>\n",
       "      <td>0.2540</td>\n",
       "      <td>0.1538</td>\n",
       "      <td>0.0969</td>\n",
       "      <td>0.0337</td>\n",
       "      <td>0.4616</td>\n",
       "      <td>28.820371</td>\n",
       "      <td>0.008747</td>\n",
       "    </tr>\n",
       "    <tr>\n",
       "      <th>0</th>\n",
       "      <td>sampled_10000_round_1</td>\n",
       "      <td>random_with_test</td>\n",
       "      <td>10000</td>\n",
       "      <td>0.2472</td>\n",
       "      <td>0.1490</td>\n",
       "      <td>0.1033</td>\n",
       "      <td>0.0289</td>\n",
       "      <td>0.4716</td>\n",
       "      <td>28.910117</td>\n",
       "      <td>-0.001507</td>\n",
       "    </tr>\n",
       "    <tr>\n",
       "      <th>0</th>\n",
       "      <td>sampled_10000_round_2</td>\n",
       "      <td>random_with_test</td>\n",
       "      <td>10000</td>\n",
       "      <td>0.2515</td>\n",
       "      <td>0.1506</td>\n",
       "      <td>0.1009</td>\n",
       "      <td>0.0311</td>\n",
       "      <td>0.4659</td>\n",
       "      <td>30.586203</td>\n",
       "      <td>0.004130</td>\n",
       "    </tr>\n",
       "  </tbody>\n",
       "</table>\n",
       "</div>"
      ],
      "text/plain": [
       "                      id       how_to_walk  sample_size    gggg    hhhh  \\\n",
       "0                   real              None      1000000  0.2500  0.1500   \n",
       "0    sampled_500_round_0  random_with_test          500  0.2620  0.1720   \n",
       "0    sampled_500_round_1  random_with_test          500  0.2440  0.1520   \n",
       "0    sampled_500_round_2  random_with_test          500  0.2540  0.1620   \n",
       "0   sampled_5000_round_0  random_with_test         5000  0.2634  0.1434   \n",
       "0   sampled_5000_round_1  random_with_test         5000  0.2414  0.1526   \n",
       "0   sampled_5000_round_2  random_with_test         5000  0.2428  0.1526   \n",
       "0  sampled_10000_round_0  random_with_test        10000  0.2540  0.1538   \n",
       "0  sampled_10000_round_1  random_with_test        10000  0.2472  0.1490   \n",
       "0  sampled_10000_round_2  random_with_test        10000  0.2515  0.1506   \n",
       "\n",
       "     mmmm    rrrr   other  running_time  kl_diver_from_real  \n",
       "0  0.1000  0.0300  0.4700           NaN            0.000000  \n",
       "0  0.0980  0.0260  0.4420      1.565768            0.030123  \n",
       "0  0.1000  0.0400  0.4640      1.615888            0.007593  \n",
       "0  0.1160  0.0220  0.4460      1.573907            0.026893  \n",
       "0  0.1006  0.0304  0.4622     14.794833            0.008305  \n",
       "0  0.1020  0.0308  0.4732     14.317290           -0.002998  \n",
       "0  0.0966  0.0304  0.4776     14.216488           -0.007412  \n",
       "0  0.0969  0.0337  0.4616     28.820371            0.008747  \n",
       "0  0.1033  0.0289  0.4716     28.910117           -0.001507  \n",
       "0  0.1009  0.0311  0.4659     30.586203            0.004130  "
      ]
     },
     "execution_count": 18,
     "metadata": {},
     "output_type": "execute_result"
    }
   ],
   "source": [
    "random_sampling_df = _compute_kl_divergence_and_other_to_df(random_sampling_df)\n",
    "random_sampling_df[random_sampling_df['how_to_walk'].isin([WALKING_TECHNIQUE.RANDOM_WITH_TEST,None])]"
   ]
  },
  {
   "cell_type": "code",
   "execution_count": 19,
   "metadata": {},
   "outputs": [
    {
     "data": {
      "image/png": "[encoded data removed]",
      "text/plain": [
       "<Figure size 1152x360 with 3 Axes>"
      ]
     },
     "metadata": {
      "needs_background": "light"
     },
     "output_type": "display_data"
    }
   ],
   "source": [
    "_draw_plots_comparing_algo_to_real(how_to_walk=WALKING_TECHNIQUE.RANDOM_WITH_TEST ,df=random_sampling_df)"
   ]
  },
  {
   "cell_type": "code",
   "execution_count": 20,
   "metadata": {},
   "outputs": [
    {
     "data": {
      "text/html": [
       "<div>\n",
       "<style scoped>\n",
       "    .dataframe tbody tr th:only-of-type {\n",
       "        vertical-align: middle;\n",
       "    }\n",
       "\n",
       "    .dataframe tbody tr th {\n",
       "        vertical-align: top;\n",
       "    }\n",
       "\n",
       "    .dataframe thead th {\n",
       "        text-align: right;\n",
       "    }\n",
       "</style>\n",
       "<table border=\"1\" class=\"dataframe\">\n",
       "  <thead>\n",
       "    <tr style=\"text-align: right;\">\n",
       "      <th></th>\n",
       "      <th>kl_diver_from_real</th>\n",
       "    </tr>\n",
       "    <tr>\n",
       "      <th>how_to_walk</th>\n",
       "      <th></th>\n",
       "    </tr>\n",
       "  </thead>\n",
       "  <tbody>\n",
       "    <tr>\n",
       "      <th>random</th>\n",
       "      <td>0.073991</td>\n",
       "    </tr>\n",
       "    <tr>\n",
       "      <th>random_with_test</th>\n",
       "      <td>0.001544</td>\n",
       "    </tr>\n",
       "  </tbody>\n",
       "</table>\n",
       "</div>"
      ],
      "text/plain": [
       "                  kl_diver_from_real\n",
       "how_to_walk                         \n",
       "random                      0.073991\n",
       "random_with_test            0.001544"
      ]
     },
     "execution_count": 20,
     "metadata": {},
     "output_type": "execute_result"
    }
   ],
   "source": [
    "df_compare_kl = random_sampling_df[random_sampling_df['how_to_walk'].isin([WALKING_TECHNIQUE.RANDOM_WITH_TEST, WALKING_TECHNIQUE.RANDOM])]\n",
    "df_compare_kl = df_compare_kl[df_compare_kl['sample_size']>=5000]\n",
    "df_compare_kl[['kl_diver_from_real','how_to_walk']].groupby(['how_to_walk']).mean()"
   ]
  },
  {
   "cell_type": "markdown",
   "metadata": {},
   "source": [
    "### Performance of Acceptance/Rejection Sampling from a B+ tree - Naive method"
   ]
  },
  {
   "cell_type": "markdown",
   "metadata": {},
   "source": [
    "we use _debug_random_sampling to keep statistics on experminets, for performance debuging. Let's use it to examine specific run of Acceptance/Rejection Sampling, with sample_size=10_000"
   ]
  },
  {
   "cell_type": "code",
   "execution_count": 21,
   "metadata": {},
   "outputs": [],
   "source": [
    "all_exper_with_10_and_accept_reject_test = [experiment for experiment in _debug_random_sampling if experiment['params']['k'] == 10_000 and \n",
    "                                 experiment['params']['how_to_walk']==WALKING_TECHNIQUE.RANDOM_WITH_TEST]\n",
    "\n",
    "arbitrary_index_running = 0\n",
    "exper_runing_measures = all_exper_with_10_and_accept_reject_test[arbitrary_index_running]['all_accept_reject_measures']\n",
    "\n",
    "count_gggg_in_arbitrary_running = len([1 for walk in exper_runing_measures['accept'] if walk['value'][:4] == 'gggg'])\n",
    "assert  count_gggg_in_arbitrary_running > 2400 and count_gggg_in_arbitrary_running < 2600, (\n",
    "    'error. You didnt catch the right running from _debug_random_sampling. Try to change `arbitrary_index_running`')\n"
   ]
  },
  {
   "cell_type": "code",
   "execution_count": 22,
   "metadata": {},
   "outputs": [
    {
     "data": {
      "text/plain": [
       "464395"
      ]
     },
     "execution_count": 22,
     "metadata": {},
     "output_type": "execute_result"
    }
   ],
   "source": [
    "walk_passed_test = all_exper_with_10_and_accept_reject_test[0]['all_accept_reject_measures']['accept']\n",
    "walk_rejected_test = all_exper_with_10_and_accept_reject_test[0]['all_accept_reject_measures']['reject']\n",
    "\n",
    "accepted_paths_prob = [walk['acceptance_prob'] for walk in walk_passed_test]\n",
    "rejected_paths_prob = [walk['acceptance_prob'] for walk in walk_rejected_test]\n",
    "\n",
    "\n",
    "len(all_exper_with_10_and_accept_reject_test[0]['all_accept_reject_measures']['reject'])"
   ]
  },
  {
   "cell_type": "code",
   "execution_count": 23,
   "metadata": {},
   "outputs": [
    {
     "data": {
      "text/plain": [
       "DescribeResult(nobs=10000, minmax=(0.015, 0.06), mean=0.023301154656, variance=4.885053461751639e-05, skewness=0.5564847287094273, kurtosis=1.183866333107079)"
      ]
     },
     "execution_count": 23,
     "metadata": {},
     "output_type": "execute_result"
    }
   ],
   "source": [
    "stats.describe(accepted_paths_prob)"
   ]
  },
  {
   "cell_type": "code",
   "execution_count": 24,
   "metadata": {},
   "outputs": [
    {
     "data": {
      "text/plain": [
       "464395"
      ]
     },
     "execution_count": 24,
     "metadata": {},
     "output_type": "execute_result"
    }
   ],
   "source": [
    "len(walk_rejected_test)"
   ]
  },
  {
   "cell_type": "code",
   "execution_count": 25,
   "metadata": {},
   "outputs": [
    {
     "name": "stdout",
     "output_type": "stream",
     "text": [
      "accepted paths histogram\n"
     ]
    },
    {
     "data": {
      "text/plain": [
       "(array([5285.,    0.,   28., 4644.,    0.,    0.,    0.,    0.,    0.,\n",
       "          43.]),\n",
       " array([0.015 , 0.0195, 0.024 , 0.0285, 0.033 , 0.0375, 0.042 , 0.0465,\n",
       "        0.051 , 0.0555, 0.06  ]),\n",
       " <BarContainer object of 10 artists>)"
      ]
     },
     "execution_count": 25,
     "metadata": {},
     "output_type": "execute_result"
    },
    {
     "data": {
      "image/png": "[encoded data removed]",
      "text/plain": [
       "<Figure size 432x288 with 1 Axes>"
      ]
     },
     "metadata": {
      "needs_background": "light"
     },
     "output_type": "display_data"
    }
   ],
   "source": [
    "print('accepted paths histogram')\n",
    "plt.hist(accepted_paths_prob, log=True)"
   ]
  },
  {
   "cell_type": "code",
   "execution_count": 26,
   "metadata": {},
   "outputs": [
    {
     "name": "stdout",
     "output_type": "stream",
     "text": [
      "rejected paths histogram\n"
     ]
    },
    {
     "data": {
      "text/plain": [
       "(array([3.10262e+05, 0.00000e+00, 9.83000e+02, 1.52572e+05, 0.00000e+00,\n",
       "        4.00000e+00, 0.00000e+00, 0.00000e+00, 0.00000e+00, 5.74000e+02]),\n",
       " array([0.015 , 0.0195, 0.024 , 0.0285, 0.033 , 0.0375, 0.042 , 0.0465,\n",
       "        0.051 , 0.0555, 0.06  ]),\n",
       " <BarContainer object of 10 artists>)"
      ]
     },
     "execution_count": 26,
     "metadata": {},
     "output_type": "execute_result"
    },
    {
     "data": {
      "image/png": "[encoded data removed]",
      "text/plain": [
       "<Figure size 432x288 with 1 Axes>"
      ]
     },
     "metadata": {
      "needs_background": "light"
     },
     "output_type": "display_data"
    }
   ],
   "source": [
    "print('rejected paths histogram')\n",
    "plt.hist(rejected_paths_prob, log=True)"
   ]
  },
  {
   "cell_type": "code",
   "execution_count": 27,
   "metadata": {},
   "outputs": [
    {
     "data": {
      "text/plain": [
       "2349"
      ]
     },
     "execution_count": 27,
     "metadata": {},
     "output_type": "execute_result"
    }
   ],
   "source": [
    "sum(exper_runing_measures['revisited_paths'].values())"
   ]
  },
  {
   "cell_type": "markdown",
   "metadata": {},
   "source": [
    "## Random Sampling - Walk B+ Tree According to Fan-Outs distribution"
   ]
  },
  {
   "cell_type": "code",
   "execution_count": 19,
   "metadata": {},
   "outputs": [
    {
     "ename": "NameError",
     "evalue": "name 'random_sampling_df' is not defined",
     "output_type": "error",
     "traceback": [
      "\u001b[0;31m---------------------------------------------------------------------------\u001b[0m",
      "\u001b[0;31mNameError\u001b[0m                                 Traceback (most recent call last)",
      "\u001b[0;32m<ipython-input-19-730d21900448>\u001b[0m in \u001b[0;36m<module>\u001b[0;34m\u001b[0m\n\u001b[0;32m----> 1\u001b[0;31m \u001b[0mrandom_sampling_df\u001b[0m \u001b[0;34m=\u001b[0m \u001b[0m_random_sampling_to_measure\u001b[0m\u001b[0;34m(\u001b[0m\u001b[0mmy_index\u001b[0m\u001b[0;34m,\u001b[0m \u001b[0mhow_to_walk\u001b[0m\u001b[0;34m=\u001b[0m\u001b[0mWALKING_TECHNIQUE\u001b[0m\u001b[0;34m.\u001b[0m\u001b[0mDISTRIBUTION_ORIENTED\u001b[0m\u001b[0;34m,\u001b[0m \u001b[0mdf\u001b[0m\u001b[0;34m=\u001b[0m\u001b[0mrandom_sampling_df\u001b[0m\u001b[0;34m)\u001b[0m\u001b[0;34m\u001b[0m\u001b[0;34m\u001b[0m\u001b[0m\n\u001b[0m",
      "\u001b[0;31mNameError\u001b[0m: name 'random_sampling_df' is not defined"
     ]
    }
   ],
   "source": [
    "random_sampling_df = _random_sampling_to_measure(my_index, how_to_walk=WALKING_TECHNIQUE.DISTRIBUTION_ORIENTED, df=random_sampling_df)"
   ]
  },
  {
   "cell_type": "code",
   "execution_count": null,
   "metadata": {},
   "outputs": [],
   "source": [
    "random_sampling_df = _compute_kl_divergence_and_other_to_df(random_sampling_df)\n",
    "random_sampling_df[random_sampling_df['how_to_walk'].isin([WALKING_TECHNIQUE.DISTRIBUTION_ORIENTED,None])]"
   ]
  },
  {
   "cell_type": "code",
   "execution_count": 30,
   "metadata": {},
   "outputs": [
    {
     "data": {
      "image/png": "[encoded data removed]",
      "text/plain": [
       "<Figure size 1152x360 with 3 Axes>"
      ]
     },
     "metadata": {
      "needs_background": "light"
     },
     "output_type": "display_data"
    }
   ],
   "source": [
    "_draw_plots_comparing_algo_to_real(how_to_walk=WALKING_TECHNIQUE.DISTRIBUTION_ORIENTED ,df=random_sampling_df)"
   ]
  },
  {
   "cell_type": "code",
   "execution_count": 31,
   "metadata": {},
   "outputs": [
    {
     "data": {
      "text/plain": [
       "0.0030726375939552856"
      ]
     },
     "execution_count": 31,
     "metadata": {},
     "output_type": "execute_result"
    }
   ],
   "source": [
    "random_sampling_distribution_walk = random_sampling_df[random_sampling_df['how_to_walk'].isin([WALKING_TECHNIQUE.DISTRIBUTION_ORIENTED])]\n",
    "random_sampling_distribution_walk[random_sampling_distribution_walk['sample_size']!=500]['kl_diver_from_real'].mean()"
   ]
  },
  {
   "cell_type": "markdown",
   "metadata": {},
   "source": [
    "### Comparing all the algorithms again, we another data distribution"
   ]
  },
  {
   "cell_type": "code",
   "execution_count": 32,
   "metadata": {},
   "outputs": [
    {
     "name": "stdout",
     "output_type": "stream",
     "text": [
      "generating 70000 values, chunk of 10000, with prefix='gggg'\n",
      "generating 40000 values, chunk of 10000, with prefix='hhhh'\n",
      "generating 50000 values, chunk of 10000, with prefix='mmmm'\n",
      "generating 30000 values, chunk of 10000, with prefix='rrrr'\n",
      "generating 810000 values, chunk of 10000, with prefix=''\n",
      "done generating 150000 values\n",
      "done generating 300000 values\n",
      "done generating 450000 values\n",
      "done generating 600000 values\n",
      "done generating 750000 values\n"
     ]
    }
   ],
   "source": [
    "prefix_to_percent_small = {\n",
    "    'gggg': 0.07,\n",
    "    'hhhh': 0.04,\n",
    "    'mmmm': 0.05,\n",
    "    'rrrr': 0.03,\n",
    "    '': 0.81\n",
    "}\n",
    "num_of_values = 1_000_000\n",
    "my_index_small = generate_btree_index_x_values_with_dist(num_of_values, prefix_to_percent_small)\n"
   ]
  },
  {
   "cell_type": "code",
   "execution_count": 33,
   "metadata": {},
   "outputs": [],
   "source": [
    "random_sampling_small_df = pd.DataFrame([{'id': 'real', 'how_to_walk': None, 'sample_size': len(my_index_small), **prefix_to_percent_small}])\n",
    "random_sampling_small_df.rename(columns={'': 'other'}, inplace=True)\n",
    "\n"
   ]
  },
  {
   "cell_type": "code",
   "execution_count": 34,
   "metadata": {},
   "outputs": [
    {
     "name": "stdout",
     "output_type": "stream",
     "text": [
      "i=0, sample_size=500\n",
      "i=1, sample_size=500\n",
      "i=2, sample_size=500\n",
      "i=0, sample_size=5000\n",
      "i=1, sample_size=5000\n",
      "i=2, sample_size=5000\n",
      "i=0, sample_size=10000\n",
      "i=1, sample_size=10000\n",
      "i=2, sample_size=10000\n"
     ]
    }
   ],
   "source": [
    "random_sampling_small_df = _random_sampling_to_measure(my_index_small, how_to_walk=WALKING_TECHNIQUE.RANDOM_WITH_TEST, df=random_sampling_small_df)\n"
   ]
  },
  {
   "cell_type": "code",
   "execution_count": 35,
   "metadata": {},
   "outputs": [],
   "source": [
    "random_sampling_small_df = _compute_kl_divergence_and_other_to_df(random_sampling_small_df)"
   ]
  },
  {
   "cell_type": "code",
   "execution_count": 36,
   "metadata": {},
   "outputs": [
    {
     "data": {
      "text/html": [
       "<div>\n",
       "<style scoped>\n",
       "    .dataframe tbody tr th:only-of-type {\n",
       "        vertical-align: middle;\n",
       "    }\n",
       "\n",
       "    .dataframe tbody tr th {\n",
       "        vertical-align: top;\n",
       "    }\n",
       "\n",
       "    .dataframe thead th {\n",
       "        text-align: right;\n",
       "    }\n",
       "</style>\n",
       "<table border=\"1\" class=\"dataframe\">\n",
       "  <thead>\n",
       "    <tr style=\"text-align: right;\">\n",
       "      <th></th>\n",
       "      <th>id</th>\n",
       "      <th>how_to_walk</th>\n",
       "      <th>sample_size</th>\n",
       "      <th>gggg</th>\n",
       "      <th>hhhh</th>\n",
       "      <th>mmmm</th>\n",
       "      <th>rrrr</th>\n",
       "      <th>other</th>\n",
       "      <th>running_time</th>\n",
       "      <th>kl_diver_from_real</th>\n",
       "    </tr>\n",
       "  </thead>\n",
       "  <tbody>\n",
       "    <tr>\n",
       "      <th>0</th>\n",
       "      <td>real</td>\n",
       "      <td>None</td>\n",
       "      <td>1000000</td>\n",
       "      <td>0.0700</td>\n",
       "      <td>0.0400</td>\n",
       "      <td>0.0500</td>\n",
       "      <td>0.0300</td>\n",
       "      <td>0.8100</td>\n",
       "      <td>NaN</td>\n",
       "      <td>0.000000</td>\n",
       "    </tr>\n",
       "    <tr>\n",
       "      <th>0</th>\n",
       "      <td>sampled_500_round_0</td>\n",
       "      <td>random_with_test</td>\n",
       "      <td>500</td>\n",
       "      <td>0.0640</td>\n",
       "      <td>0.0320</td>\n",
       "      <td>0.0520</td>\n",
       "      <td>0.0420</td>\n",
       "      <td>0.8100</td>\n",
       "      <td>0.527243</td>\n",
       "      <td>0.003296</td>\n",
       "    </tr>\n",
       "    <tr>\n",
       "      <th>0</th>\n",
       "      <td>sampled_500_round_1</td>\n",
       "      <td>random_with_test</td>\n",
       "      <td>500</td>\n",
       "      <td>0.0840</td>\n",
       "      <td>0.0340</td>\n",
       "      <td>0.0440</td>\n",
       "      <td>0.0240</td>\n",
       "      <td>0.8140</td>\n",
       "      <td>0.500578</td>\n",
       "      <td>-0.001191</td>\n",
       "    </tr>\n",
       "    <tr>\n",
       "      <th>0</th>\n",
       "      <td>sampled_500_round_2</td>\n",
       "      <td>random_with_test</td>\n",
       "      <td>500</td>\n",
       "      <td>0.0580</td>\n",
       "      <td>0.0500</td>\n",
       "      <td>0.0320</td>\n",
       "      <td>0.0240</td>\n",
       "      <td>0.8360</td>\n",
       "      <td>0.501669</td>\n",
       "      <td>-0.019386</td>\n",
       "    </tr>\n",
       "    <tr>\n",
       "      <th>0</th>\n",
       "      <td>sampled_5000_round_0</td>\n",
       "      <td>random_with_test</td>\n",
       "      <td>5000</td>\n",
       "      <td>0.0704</td>\n",
       "      <td>0.0358</td>\n",
       "      <td>0.0554</td>\n",
       "      <td>0.0326</td>\n",
       "      <td>0.8058</td>\n",
       "      <td>4.300277</td>\n",
       "      <td>0.004821</td>\n",
       "    </tr>\n",
       "    <tr>\n",
       "      <th>0</th>\n",
       "      <td>sampled_5000_round_1</td>\n",
       "      <td>random_with_test</td>\n",
       "      <td>5000</td>\n",
       "      <td>0.0732</td>\n",
       "      <td>0.0406</td>\n",
       "      <td>0.0532</td>\n",
       "      <td>0.0278</td>\n",
       "      <td>0.8052</td>\n",
       "      <td>4.431451</td>\n",
       "      <td>0.005060</td>\n",
       "    </tr>\n",
       "    <tr>\n",
       "      <th>0</th>\n",
       "      <td>sampled_5000_round_2</td>\n",
       "      <td>random_with_test</td>\n",
       "      <td>5000</td>\n",
       "      <td>0.0720</td>\n",
       "      <td>0.0422</td>\n",
       "      <td>0.0514</td>\n",
       "      <td>0.0262</td>\n",
       "      <td>0.8082</td>\n",
       "      <td>6.208454</td>\n",
       "      <td>0.002159</td>\n",
       "    </tr>\n",
       "    <tr>\n",
       "      <th>0</th>\n",
       "      <td>sampled_10000_round_0</td>\n",
       "      <td>random_with_test</td>\n",
       "      <td>10000</td>\n",
       "      <td>0.0723</td>\n",
       "      <td>0.0351</td>\n",
       "      <td>0.0535</td>\n",
       "      <td>0.0298</td>\n",
       "      <td>0.8093</td>\n",
       "      <td>8.620541</td>\n",
       "      <td>0.001171</td>\n",
       "    </tr>\n",
       "    <tr>\n",
       "      <th>0</th>\n",
       "      <td>sampled_10000_round_1</td>\n",
       "      <td>random_with_test</td>\n",
       "      <td>10000</td>\n",
       "      <td>0.0699</td>\n",
       "      <td>0.0403</td>\n",
       "      <td>0.0527</td>\n",
       "      <td>0.0318</td>\n",
       "      <td>0.8053</td>\n",
       "      <td>8.753753</td>\n",
       "      <td>0.004826</td>\n",
       "    </tr>\n",
       "    <tr>\n",
       "      <th>0</th>\n",
       "      <td>sampled_10000_round_2</td>\n",
       "      <td>random_with_test</td>\n",
       "      <td>10000</td>\n",
       "      <td>0.0655</td>\n",
       "      <td>0.0410</td>\n",
       "      <td>0.0543</td>\n",
       "      <td>0.0302</td>\n",
       "      <td>0.8090</td>\n",
       "      <td>8.788469</td>\n",
       "      <td>0.001341</td>\n",
       "    </tr>\n",
       "  </tbody>\n",
       "</table>\n",
       "</div>"
      ],
      "text/plain": [
       "                      id       how_to_walk  sample_size    gggg    hhhh  \\\n",
       "0                   real              None      1000000  0.0700  0.0400   \n",
       "0    sampled_500_round_0  random_with_test          500  0.0640  0.0320   \n",
       "0    sampled_500_round_1  random_with_test          500  0.0840  0.0340   \n",
       "0    sampled_500_round_2  random_with_test          500  0.0580  0.0500   \n",
       "0   sampled_5000_round_0  random_with_test         5000  0.0704  0.0358   \n",
       "0   sampled_5000_round_1  random_with_test         5000  0.0732  0.0406   \n",
       "0   sampled_5000_round_2  random_with_test         5000  0.0720  0.0422   \n",
       "0  sampled_10000_round_0  random_with_test        10000  0.0723  0.0351   \n",
       "0  sampled_10000_round_1  random_with_test        10000  0.0699  0.0403   \n",
       "0  sampled_10000_round_2  random_with_test        10000  0.0655  0.0410   \n",
       "\n",
       "     mmmm    rrrr   other  running_time  kl_diver_from_real  \n",
       "0  0.0500  0.0300  0.8100           NaN            0.000000  \n",
       "0  0.0520  0.0420  0.8100      0.527243            0.003296  \n",
       "0  0.0440  0.0240  0.8140      0.500578           -0.001191  \n",
       "0  0.0320  0.0240  0.8360      0.501669           -0.019386  \n",
       "0  0.0554  0.0326  0.8058      4.300277            0.004821  \n",
       "0  0.0532  0.0278  0.8052      4.431451            0.005060  \n",
       "0  0.0514  0.0262  0.8082      6.208454            0.002159  \n",
       "0  0.0535  0.0298  0.8093      8.620541            0.001171  \n",
       "0  0.0527  0.0318  0.8053      8.753753            0.004826  \n",
       "0  0.0543  0.0302  0.8090      8.788469            0.001341  "
      ]
     },
     "execution_count": 36,
     "metadata": {},
     "output_type": "execute_result"
    }
   ],
   "source": [
    "random_sampling_small_df"
   ]
  },
  {
   "cell_type": "code",
   "execution_count": 66,
   "metadata": {},
   "outputs": [],
   "source": [
    "from datetime import datetime\n",
    "s = datetime.utcnow()"
   ]
  },
  {
   "cell_type": "code",
   "execution_count": 68,
   "metadata": {},
   "outputs": [
    {
     "data": {
      "text/plain": [
       "2.479847"
      ]
     },
     "execution_count": 68,
     "metadata": {},
     "output_type": "execute_result"
    }
   ],
   "source": []
  },
  {
   "cell_type": "code",
   "execution_count": null,
   "metadata": {},
   "outputs": [],
   "source": []
  },
  {
   "cell_type": "code",
   "execution_count": null,
   "metadata": {},
   "outputs": [],
   "source": []
  }
 ],
 "metadata": {
  "kernelspec": {
   "display_name": "Python 3",
   "language": "python",
   "name": "python3"
  },
  "language_info": {
   "codemirror_mode": {
    "name": "ipython",
    "version": 3
   },
   "file_extension": ".py",
   "mimetype": "text/x-python",
   "name": "python",
   "nbconvert_exporter": "python",
   "pygments_lexer": "ipython3",
   "version": "3.6.5"
  }
 },
 "nbformat": 4,
 "nbformat_minor": 4
}
