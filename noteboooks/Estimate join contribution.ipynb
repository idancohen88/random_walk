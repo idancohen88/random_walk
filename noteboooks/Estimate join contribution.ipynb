{
 "cells": [
  {
   "cell_type": "code",
   "execution_count": 87,
   "metadata": {},
   "outputs": [],
   "source": [
    "import numpy as np\n",
    "def join(lst1, lst2):\n",
    "    return [(i, j) for i in lst1 for j in lst2 if i == j]"
   ]
  },
  {
   "cell_type": "code",
   "execution_count": 81,
   "metadata": {},
   "outputs": [
    {
     "name": "stdout",
     "output_type": "stream",
     "text": [
      "2, 1, 1, 1, 1...1, 1, 1 (501)\n",
      "1, 2, 2, 2, 2...2, 2, 2 (501)\n"
     ]
    }
   ],
   "source": [
    "L1 = [2] + [1] * 500\n",
    "L2 = [1] + [2] * 500\n",
    "L1_str = \", \".join([str(x) for x in L1[:5]]) + '...' + \", \".join([str(x) for x in L1[-3:]])\n",
    "L2_str = \", \".join([str(x) for x in L2[:5]]) + '...' + \", \".join([str(x) for x in L2[-3:]])\n",
    "print(f\"{L1_str} ({len(L1)})\")\n",
    "print(f\"{L2_str} ({len(L2)})\")\n",
    "#print(f\"{L2[:10]}...{L2[:-5]}\")"
   ]
  },
  {
   "cell_type": "code",
   "execution_count": 49,
   "metadata": {},
   "outputs": [],
   "source": [
    "join_results = join(L1,L2)"
   ]
  },
  {
   "cell_type": "code",
   "execution_count": 79,
   "metadata": {},
   "outputs": [],
   "source": [
    "import random\n",
    "sampled = random.sample(join_results ,100)"
   ]
  },
  {
   "cell_type": "code",
   "execution_count": 80,
   "metadata": {},
   "outputs": [
    {
     "data": {
      "text/plain": [
       "Counter({1: 51, 2: 49})"
      ]
     },
     "execution_count": 80,
     "metadata": {},
     "output_type": "execute_result"
    }
   ],
   "source": [
    "from collections import Counter\n",
    "Counter([x[0] for x in sampled])"
   ]
  },
  {
   "cell_type": "code",
   "execution_count": 52,
   "metadata": {
    "scrolled": true
   },
   "outputs": [
    {
     "data": {
      "text/plain": [
       "1000"
      ]
     },
     "execution_count": 52,
     "metadata": {},
     "output_type": "execute_result"
    }
   ],
   "source": [
    "len(join_results)"
   ]
  },
  {
   "cell_type": "markdown",
   "metadata": {},
   "source": [
    "stratergy a: sample one value from R1, join with only one in R2, and mark that R1 can't be sampled again"
   ]
  },
  {
   "cell_type": "code",
   "execution_count": 142,
   "metadata": {},
   "outputs": [],
   "source": [
    "def sample_join_method_a(table1, table2, sample_size=50):\n",
    "    table1 = np.array(table1) if not isinstance(table1, np.ndarray) else table1\n",
    "    table2 = np.array(table2) if not isinstance(table2, np.ndarray) else table2\n",
    "    random_join = []\n",
    "    max_int = len(table1) - 1\n",
    "    already_visited_table1 = set()\n",
    "\n",
    "    while len(random_join) < sample_size and len(already_visited_table1) < len(table1):\n",
    "        next_rand_index = random.randint(0, max_int)\n",
    "        while next_rand_index in already_visited_table1:\n",
    "            next_rand_index = random.randint(0, max_int)\n",
    "\n",
    "        already_visited_table1.add(next_rand_index)\n",
    "        value_from_rand_index = table1[next_rand_index]\n",
    "\n",
    "        joined_indexes_from_table2 = np.where(table2 == value_from_rand_index)\n",
    "        if not joined_indexes_from_table2:\n",
    "            continue\n",
    "        rand_matched_index_table2 = random.choice(joined_indexes_from_table2)[0]\n",
    "        #if rand_matched_index_table2.size:\n",
    "        rand_value_table2 = table2[rand_matched_index_table2]\n",
    "        random_join.append((value_from_rand_index, rand_value_table2))\n",
    "\n",
    "    print (Counter([x[0] for x in random_join]))"
   ]
  },
  {
   "cell_type": "code",
   "execution_count": 144,
   "metadata": {},
   "outputs": [
    {
     "name": "stdout",
     "output_type": "stream",
     "text": [
      "Counter({1: 500, 2: 1})\n"
     ]
    }
   ],
   "source": [
    "sample_join_method_a(L1,L2,1000)\n",
    "# the problem - until we sampled \"2\", we brought only with 1 matching."
   ]
  },
  {
   "cell_type": "markdown",
   "metadata": {},
   "source": [
    "stratergy b: like a, but using Olken rejectness test: duplication allowed!"
   ]
  },
  {
   "cell_type": "code",
   "execution_count": 153,
   "metadata": {},
   "outputs": [],
   "source": [
    "def sample_join_method_b(table1, table2, sample_size=50):\n",
    "    table1 = np.array(table1) if not isinstance(table1, np.ndarray) else table1\n",
    "    table2 = np.array(table2) if not isinstance(table2, np.ndarray) else table2\n",
    "    random_join = []\n",
    "    max_int = len(table1) - 1\n",
    "    already_visited_table1 = set()\n",
    "\n",
    "    table_2_counter = Counter(table2)\n",
    "    max_cardinality = table_2_counter.most_common(1)[0][1]\n",
    "\n",
    "    while len(random_join) < sample_size and len(already_visited_table1) < len(table1):\n",
    "        next_rand_index = random.randint(0, max_int)\n",
    "        while next_rand_index in already_visited_table1:\n",
    "            next_rand_index = random.randint(0, max_int)\n",
    "\n",
    "        value_from_rand_index = table1[next_rand_index]\n",
    "\n",
    "        joined_indexes_from_table2 = np.where(table2 == value_from_rand_index)\n",
    "        if not joined_indexes_from_table2:\n",
    "            continue\n",
    "\n",
    "        olken_accept_test = table_2_counter[value_from_rand_index] / max_cardinality\n",
    "\n",
    "        if np.random.random_sample() >= olken_accept_test:\n",
    "            continue\n",
    "\n",
    "        # already_visited_table1.add(next_rand_index)\n",
    "\n",
    "        rand_matched_index_table2 = random.choice(joined_indexes_from_table2)[0]\n",
    "\n",
    "        rand_value_table2 = table2[rand_matched_index_table2]\n",
    "        random_join.append((value_from_rand_index, rand_value_table2))\n",
    "\n",
    "    print (Counter([x[0] for x in random_join]))\n"
   ]
  },
  {
   "cell_type": "code",
   "execution_count": 154,
   "metadata": {},
   "outputs": [
    {
     "name": "stdout",
     "output_type": "stream",
     "text": [
      "Counter({2: 505, 1: 495})\n"
     ]
    }
   ],
   "source": [
    "sample_join_method_b(L1, L2, 1000)"
   ]
  },
  {
   "cell_type": "code",
   "execution_count": 155,
   "metadata": {},
   "outputs": [],
   "source": [
    "join_results = join(L1,L2)"
   ]
  },
  {
   "cell_type": "code",
   "execution_count": 156,
   "metadata": {},
   "outputs": [
    {
     "data": {
      "text/plain": [
       "1000"
      ]
     },
     "execution_count": 156,
     "metadata": {},
     "output_type": "execute_result"
    }
   ],
   "source": [
    "len(join_results)"
   ]
  },
  {
   "cell_type": "markdown",
   "metadata": {},
   "source": [
    "stratergy c: We sampling alternately from R1 and R2, and each table maintain how many times each value can be selected, using statistics."
   ]
  },
  {
   "cell_type": "code",
   "execution_count": null,
   "metadata": {},
   "outputs": [],
   "source": []
  }
 ],
 "metadata": {
  "kernelspec": {
   "display_name": "Python 3",
   "language": "python",
   "name": "python3"
  },
  "language_info": {
   "codemirror_mode": {
    "name": "ipython",
    "version": 3
   },
   "file_extension": ".py",
   "mimetype": "text/x-python",
   "name": "python",
   "nbconvert_exporter": "python",
   "pygments_lexer": "ipython3",
   "version": "3.6.5"
  }
 },
 "nbformat": 4,
 "nbformat_minor": 4
}
