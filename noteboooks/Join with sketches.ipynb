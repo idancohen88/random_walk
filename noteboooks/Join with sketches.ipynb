{
 "cells": [
  {
   "cell_type": "code",
   "execution_count": 1,
   "metadata": {},
   "outputs": [],
   "source": [
    "import random\n",
    "from collections import Counter"
   ]
  },
  {
   "cell_type": "code",
   "execution_count": 58,
   "metadata": {},
   "outputs": [],
   "source": [
    "table1 = [2] + [1] * 2000\n",
    "table2 = [1] + [2] * 2000\n",
    "\n",
    "K = 50"
   ]
  },
  {
   "cell_type": "code",
   "execution_count": 24,
   "metadata": {},
   "outputs": [],
   "source": [
    "def _single_sample(tbl):\n",
    "    return random.sample(tbl, 1)"
   ]
  },
  {
   "cell_type": "code",
   "execution_count": 46,
   "metadata": {},
   "outputs": [],
   "source": [
    "def _full_join(table_left, table_right):\n",
    "    return [(i, j) for i in table_left for j in table_right if i == j]\n",
    "    \n",
    "def _sample_from_full_joint(table_left, table_right, sample_size):\n",
    "    join_results = _full_join(table_left, table_right)\n",
    "    sampled = random.sample(join_results, sample_size)\n",
    "    print('real join results: ', Counter([x[0] for x in sampled]))\n",
    "    return sampled"
   ]
  },
  {
   "cell_type": "code",
   "execution_count": 26,
   "metadata": {},
   "outputs": [],
   "source": [
    "table_1_freq = Counter(table1)\n",
    "table_2_freq = Counter(table2)"
   ]
  },
  {
   "cell_type": "markdown",
   "metadata": {},
   "source": [
    "## let's figure out mathmaticly #values in the join"
   ]
  },
  {
   "cell_type": "code",
   "execution_count": 39,
   "metadata": {},
   "outputs": [
    {
     "data": {
      "text/plain": [
       "Counter({(2, 2): 100, (1, 1): 100})"
      ]
     },
     "execution_count": 39,
     "metadata": {},
     "output_type": "execute_result"
    }
   ],
   "source": [
    "freq_in_join_real = Counter(_full_join(table1, table2))\n",
    "freq_in_join_real"
   ]
  },
  {
   "cell_type": "code",
   "execution_count": 45,
   "metadata": {},
   "outputs": [
    {
     "data": {
      "text/plain": [
       "{2: 100, 1: 100}"
      ]
     },
     "execution_count": 45,
     "metadata": {},
     "output_type": "execute_result"
    }
   ],
   "source": [
    "freq_in_join_estimate = {key: value * table_2_freq[key] for key, value in table_1_freq.items()}\n",
    "freq_in_join_estimate"
   ]
  },
  {
   "cell_type": "code",
   "execution_count": 29,
   "metadata": {},
   "outputs": [
    {
     "data": {
      "text/plain": [
       "100"
      ]
     },
     "execution_count": 29,
     "metadata": {},
     "output_type": "execute_result"
    }
   ],
   "source": [
    "freq_in_join[2]"
   ]
  },
  {
   "cell_type": "code",
   "execution_count": 32,
   "metadata": {},
   "outputs": [],
   "source": [
    "simulate_full_join = [key for key, value in freq_in_join.items() for _ in range(value)]\n",
    "random_sample_full_join = random.sample(simulate_full_join, K)"
   ]
  },
  {
   "cell_type": "code",
   "execution_count": 63,
   "metadata": {},
   "outputs": [
    {
     "name": "stdout",
     "output_type": "stream",
     "text": [
      "real join results:  Counter({1: 503, 2: 497})\n"
     ]
    }
   ],
   "source": [
    "a =_sample_from_full_joint(table1, table2, 1000)"
   ]
  },
  {
   "cell_type": "code",
   "execution_count": 35,
   "metadata": {},
   "outputs": [
    {
     "data": {
      "text/plain": [
       "[(2, 2),\n",
       " (2, 2),\n",
       " (2, 2),\n",
       " (2, 2),\n",
       " (2, 2),\n",
       " (2, 2),\n",
       " (2, 2),\n",
       " (2, 2),\n",
       " (2, 2),\n",
       " (2, 2),\n",
       " (2, 2),\n",
       " (2, 2),\n",
       " (2, 2),\n",
       " (2, 2),\n",
       " (2, 2),\n",
       " (2, 2),\n",
       " (2, 2),\n",
       " (2, 2),\n",
       " (2, 2),\n",
       " (2, 2),\n",
       " (2, 2),\n",
       " (2, 2),\n",
       " (2, 2),\n",
       " (2, 2),\n",
       " (2, 2),\n",
       " (2, 2),\n",
       " (2, 2),\n",
       " (2, 2),\n",
       " (2, 2),\n",
       " (2, 2),\n",
       " (2, 2),\n",
       " (2, 2),\n",
       " (2, 2),\n",
       " (2, 2),\n",
       " (2, 2),\n",
       " (2, 2),\n",
       " (2, 2),\n",
       " (2, 2),\n",
       " (2, 2),\n",
       " (2, 2),\n",
       " (2, 2),\n",
       " (2, 2),\n",
       " (2, 2),\n",
       " (2, 2),\n",
       " (2, 2),\n",
       " (2, 2),\n",
       " (2, 2),\n",
       " (2, 2),\n",
       " (2, 2),\n",
       " (2, 2),\n",
       " (2, 2),\n",
       " (2, 2),\n",
       " (2, 2),\n",
       " (2, 2),\n",
       " (2, 2),\n",
       " (2, 2),\n",
       " (2, 2),\n",
       " (2, 2),\n",
       " (2, 2),\n",
       " (2, 2),\n",
       " (2, 2),\n",
       " (2, 2),\n",
       " (2, 2),\n",
       " (2, 2),\n",
       " (2, 2),\n",
       " (2, 2),\n",
       " (2, 2),\n",
       " (2, 2),\n",
       " (2, 2),\n",
       " (2, 2),\n",
       " (2, 2),\n",
       " (2, 2),\n",
       " (2, 2),\n",
       " (2, 2),\n",
       " (2, 2),\n",
       " (2, 2),\n",
       " (2, 2),\n",
       " (2, 2),\n",
       " (2, 2),\n",
       " (2, 2),\n",
       " (2, 2),\n",
       " (2, 2),\n",
       " (2, 2),\n",
       " (2, 2),\n",
       " (2, 2),\n",
       " (2, 2),\n",
       " (2, 2),\n",
       " (2, 2),\n",
       " (2, 2),\n",
       " (2, 2),\n",
       " (2, 2),\n",
       " (2, 2),\n",
       " (2, 2),\n",
       " (2, 2),\n",
       " (2, 2),\n",
       " (2, 2),\n",
       " (2, 2),\n",
       " (2, 2),\n",
       " (2, 2),\n",
       " (2, 2),\n",
       " (1, 1),\n",
       " (1, 1),\n",
       " (1, 1),\n",
       " (1, 1),\n",
       " (1, 1),\n",
       " (1, 1),\n",
       " (1, 1),\n",
       " (1, 1),\n",
       " (1, 1),\n",
       " (1, 1),\n",
       " (1, 1),\n",
       " (1, 1),\n",
       " (1, 1),\n",
       " (1, 1),\n",
       " (1, 1),\n",
       " (1, 1),\n",
       " (1, 1),\n",
       " (1, 1),\n",
       " (1, 1),\n",
       " (1, 1),\n",
       " (1, 1),\n",
       " (1, 1),\n",
       " (1, 1),\n",
       " (1, 1),\n",
       " (1, 1),\n",
       " (1, 1),\n",
       " (1, 1),\n",
       " (1, 1),\n",
       " (1, 1),\n",
       " (1, 1),\n",
       " (1, 1),\n",
       " (1, 1),\n",
       " (1, 1),\n",
       " (1, 1),\n",
       " (1, 1),\n",
       " (1, 1),\n",
       " (1, 1),\n",
       " (1, 1),\n",
       " (1, 1),\n",
       " (1, 1),\n",
       " (1, 1),\n",
       " (1, 1),\n",
       " (1, 1),\n",
       " (1, 1),\n",
       " (1, 1),\n",
       " (1, 1),\n",
       " (1, 1),\n",
       " (1, 1),\n",
       " (1, 1),\n",
       " (1, 1),\n",
       " (1, 1),\n",
       " (1, 1),\n",
       " (1, 1),\n",
       " (1, 1),\n",
       " (1, 1),\n",
       " (1, 1),\n",
       " (1, 1),\n",
       " (1, 1),\n",
       " (1, 1),\n",
       " (1, 1),\n",
       " (1, 1),\n",
       " (1, 1),\n",
       " (1, 1),\n",
       " (1, 1),\n",
       " (1, 1),\n",
       " (1, 1),\n",
       " (1, 1),\n",
       " (1, 1),\n",
       " (1, 1),\n",
       " (1, 1),\n",
       " (1, 1),\n",
       " (1, 1),\n",
       " (1, 1),\n",
       " (1, 1),\n",
       " (1, 1),\n",
       " (1, 1),\n",
       " (1, 1),\n",
       " (1, 1),\n",
       " (1, 1),\n",
       " (1, 1),\n",
       " (1, 1),\n",
       " (1, 1),\n",
       " (1, 1),\n",
       " (1, 1),\n",
       " (1, 1),\n",
       " (1, 1),\n",
       " (1, 1),\n",
       " (1, 1),\n",
       " (1, 1),\n",
       " (1, 1),\n",
       " (1, 1),\n",
       " (1, 1),\n",
       " (1, 1),\n",
       " (1, 1),\n",
       " (1, 1),\n",
       " (1, 1),\n",
       " (1, 1),\n",
       " (1, 1),\n",
       " (1, 1),\n",
       " (1, 1)]"
      ]
     },
     "execution_count": 35,
     "metadata": {},
     "output_type": "execute_result"
    }
   ],
   "source": [
    "# every element chosen, multiply the frequents in t1,t2"
   ]
  },
  {
   "cell_type": "code",
   "execution_count": 83,
   "metadata": {},
   "outputs": [],
   "source": [
    "from collections import defaultdict\n",
    "chosen_elements = defaultdict(lambda :{'join_freq':0, 'sampled': 0, 'samled_from':[], 'iteration':0})\n",
    "sampled = 0\n",
    "i = 0\n",
    "while sampled < K and i<K/2:\n",
    "    element = random.sample(table1, 1)[0]\n",
    "    if not chosen_elements[element]['join_freq']:\n",
    "        chosen_elements[element]['join_freq'] = freq_in_join_estimate[element]\n",
    "    chosen_elements[element]['sampled'] +=1\n",
    "    chosen_elements[element]['iteration'] +=1\n",
    "    chosen_elements[element]['samled_from'].append('table1')\n",
    "    \n",
    "    i+=1\n",
    "    sampled+=1"
   ]
  },
  {
   "cell_type": "markdown",
   "metadata": {},
   "source": [
    "we see immidieatly the problem with this approach, we will never get to 1"
   ]
  },
  {
   "cell_type": "code",
   "execution_count": 92,
   "metadata": {},
   "outputs": [],
   "source": [
    "import random\n",
    "def _curr_tbl():\n",
    "    rand = random.randint(0,1)\n",
    "    return table1 if rand==0 else table2"
   ]
  },
  {
   "cell_type": "code",
   "execution_count": 251,
   "metadata": {},
   "outputs": [
    {
     "data": {
      "text/plain": [
       "'c385e6fcbf344d239714280fac9cec12'"
      ]
     },
     "execution_count": 251,
     "metadata": {},
     "output_type": "execute_result"
    }
   ],
   "source": [
    "\n",
    "uuid.uuid4().hex"
   ]
  },
  {
   "cell_type": "code",
   "execution_count": 352,
   "metadata": {},
   "outputs": [],
   "source": [
    "import uuid\n",
    "\n",
    "def _full_join(table_left, table_right):\n",
    "    return [(i[0], i[1], j[1]) for i in table_left for j in table_right if i[0] == j[0]]\n",
    "    \n",
    "\n",
    "class Table:\n",
    "    _freq = None\n",
    "    _keys = None\n",
    "    _values = None\n",
    "    def __init__(self, name, *args):\n",
    "        self.name = name\n",
    "        if isinstance(args[0], list):\n",
    "            our_data = args[0]\n",
    "        else:\n",
    "            our_data = args\n",
    "        \n",
    "        self._values = [(x, uuid.uuid4().hex) for x in our_data]\n",
    "    \n",
    "    def __iter__(self):\n",
    "        yield from self._values\n",
    "    \n",
    "    @property\n",
    "    def freq(self):\n",
    "        if not self._freq:\n",
    "            self._freq = Counter(self.keys)\n",
    "        return self._freq\n",
    "    \n",
    "    @property\n",
    "    def keys(self):\n",
    "        if not self._keys:\n",
    "            self._keys = [x[0] for x in self._values]\n",
    "        return self._keys\n",
    "    \n",
    "    def rand(self):\n",
    "        return random.sample(self._values, 1)[0]\n",
    "    \n",
    "    def join(self, tbl):\n",
    "        return _full_join(self, tbl)\n",
    "    \n",
    "    def get_key(self, value):\n",
    "        return [x for x in self._values if x[0]==value]"
   ]
  },
  {
   "cell_type": "code",
   "execution_count": 382,
   "metadata": {},
   "outputs": [],
   "source": [
    "tbl1 = Table('tbl1', [random.randint(1, 10) for _ in range(50)] + [random.randint(10, 20) for _ in range(20)] + [13 for _ in range(60)])\n",
    "tbl2 = Table('tbl2',  [random.randint(10, 20) for _ in range(50)])"
   ]
  },
  {
   "cell_type": "code",
   "execution_count": 408,
   "metadata": {},
   "outputs": [],
   "source": [
    "freq_in_join_estimate = {key: value * tbl2.freq[key] for key, value in tbl1.freq.items() if value * tbl2.freq[key]}"
   ]
  },
  {
   "cell_type": "code",
   "execution_count": 409,
   "metadata": {},
   "outputs": [
    {
     "data": {
      "text/plain": [
       "{10: 30, 20: 4, 17: 5, 15: 7, 11: 36, 12: 12, 13: 248, 18: 5, 16: 4, 14: 4}"
      ]
     },
     "execution_count": 409,
     "metadata": {},
     "output_type": "execute_result"
    }
   ],
   "source": [
    "freq_in_join_estimate"
   ]
  },
  {
   "cell_type": "code",
   "execution_count": 397,
   "metadata": {},
   "outputs": [],
   "source": [
    "import numpy as np\n",
    "import random\n",
    "\n",
    "def _tables_iterator(table1, table2):\n",
    "    tbl1_participant = sum([table2.freq[x] for x in table1.keys])\n",
    "    tbl2_participant = sum([table1.freq[x] for x in table2.keys])\n",
    "    sum_of_join = tbl1_participant + tbl2_participant\n",
    "    while True:\n",
    "        yield np.random.choice([table1, table2], p=[tbl1_participant/sum_of_join, tbl2_participant/sum_of_join])"
   ]
  },
  {
   "cell_type": "code",
   "execution_count": 398,
   "metadata": {},
   "outputs": [
    {
     "name": "stdout",
     "output_type": "stream",
     "text": [
      "we have full join\n",
      "curr table selected\n",
      "we have curr table\n",
      "sampled element (11, '8a031e3ba5ac4462b1f949fbf3d78e26') from table tbl2\n",
      "curr table selected\n",
      "we have curr table\n",
      "sampled element (16, '2f967156a0b745bb8ac4a4ac1b539778') from table tbl2\n",
      "curr table selected\n",
      "we have curr table\n",
      "sampled element (16, '6e6722239a8045079043941915c7ad58') from table tbl2\n",
      "curr table selected\n",
      "we have curr table\n",
      "sampled element (10, '53e459daa27047c0994e3fe9d63c1a64') from table tbl2\n",
      "curr table selected\n",
      "we have curr table\n",
      "sampled element (14, 'a0317cd0ed884f12919a1e780d66529c') from table tbl2\n",
      "curr table selected\n",
      "we have curr table\n",
      "sampled element (12, '17684c626c5e46799dd6f7cd48b68b41') from table tbl1\n",
      "curr table selected\n",
      "we have curr table\n",
      "sampled element (13, '3ff6b81019114f1cb8aa92f2aa4811b7') from table tbl1\n",
      "curr table selected\n",
      "we have curr table\n",
      "sampled element (16, 'f16f8e03084a4ffca85c6f0ce46a1eb9') from table tbl2\n",
      "curr table selected\n",
      "we have curr table\n",
      "sampled element (10, '6db48279d9d5464da397e9ff441906b5') from table tbl1\n",
      "curr table selected\n",
      "we have curr table\n",
      "sampled element (13, '0d88dc29241e405c84c6e5ed28ca1a51') from table tbl1\n",
      "curr table selected\n",
      "we have curr table\n",
      "sampled element (17, '245825f2a2be4d0185bfcad8030dc0b7') from table tbl2\n",
      "curr table selected\n",
      "we have curr table\n",
      "sampled element (18, 'cb1ca111999c4955810e9e5c7894d300') from table tbl2\n",
      "curr table selected\n",
      "we have curr table\n",
      "sampled element (13, 'c7dfd77aa9284feea7f06accec0802f6') from table tbl1\n",
      "curr table selected\n",
      "we have curr table\n",
      "sampled element (13, '61097cb96a4a42a380fe48e66a45c8f0') from table tbl1\n",
      "curr table selected\n",
      "we have curr table\n",
      "sampled element (13, '641d6437d2b44992b2567022840ca50c') from table tbl1\n",
      "curr table selected\n",
      "we have curr table\n",
      "sampled element (11, '699c8dc2987e4d2ba4628eae9839ee8f') from table tbl1\n",
      "curr table selected\n",
      "we have curr table\n",
      "sampled element (13, 'f53a1ec93c0c4cd8b56bf788e57508c3') from table tbl1\n",
      "curr table selected\n",
      "we have curr table\n",
      "sampled element (18, 'bc75565ec7f84be5b12f8832d64cd475') from table tbl2\n",
      "curr table selected\n",
      "we have curr table\n",
      "sampled element (18, 'be352077950c4fdeaa4e96a903aa0b3e') from table tbl2\n",
      "curr table selected\n",
      "we have curr table\n",
      "sampled element (13, '641d6437d2b44992b2567022840ca50c') from table tbl1\n",
      "curr table selected\n",
      "we have curr table\n",
      "sampled element (12, 'a81589f8491a48fc94850b6070060ad4') from table tbl2\n",
      "curr table selected\n",
      "we have curr table\n",
      "sampled element (13, '9f523535c77346e5b21c7c632d3a9371') from table tbl1\n",
      "curr table selected\n",
      "we have curr table\n",
      "sampled element (13, '3ff6b81019114f1cb8aa92f2aa4811b7') from table tbl1\n",
      "curr table selected\n",
      "we have curr table\n",
      "sampled element (18, 'bc75565ec7f84be5b12f8832d64cd475') from table tbl2\n",
      "curr table selected\n",
      "we have curr table\n",
      "sampled element (11, 'b0b3a95d583a4e7183ea0d5aafe33788') from table tbl1\n",
      "curr table selected\n",
      "we have curr table\n",
      "sampled element (11, 'fdfbc28112ab484cb4922ca2ec4c0157') from table tbl1\n",
      "curr table selected\n",
      "we have curr table\n",
      "sampled element (10, 'e71dbfa6ff164106ba1bba77a10d51cb') from table tbl1\n",
      "curr table selected\n",
      "we have curr table\n",
      "sampled element (10, '9726949c649c4e6bb77dcecd36d4a875') from table tbl1\n",
      "curr table selected\n",
      "we have curr table\n",
      "sampled element (15, 'ef425b7659ef44e58dcaf83b4aec18d9') from table tbl2\n",
      "curr table selected\n",
      "we have curr table\n",
      "sampled element (13, '261407be6f074fdf8ac29fc450400a16') from table tbl1\n",
      "curr table selected\n",
      "we have curr table\n",
      "sampled element (13, 'c5c23cc11dec45bb8fa105072ed2fd77') from table tbl1\n",
      "curr table selected\n",
      "we have curr table\n",
      "sampled element (10, 'd744f4906a184d8e93abe2bd49e460c7') from table tbl1\n",
      "curr table selected\n",
      "we have curr table\n",
      "sampled element (13, '9f523535c77346e5b21c7c632d3a9371') from table tbl1\n",
      "curr table selected\n",
      "we have curr table\n",
      "sampled element (13, '180f21c8a75045ee8766617ffa989d71') from table tbl1\n",
      "curr table selected\n",
      "we have curr table\n",
      "sampled element (10, '40e9380fcd674c5796b7ed715cecf750') from table tbl1\n",
      "curr table selected\n",
      "we have curr table\n",
      "sampled element (14, 'ee9c327aa9ce4f299668e0efcc5a1c50') from table tbl2\n",
      "curr table selected\n",
      "we have curr table\n",
      "sampled element (13, '0b2878a796ea478280a72036c6ad5de5') from table tbl1\n",
      "curr table selected\n",
      "we have curr table\n",
      "sampled element (17, '4fad09f541e3450c857b9bc4ea837512') from table tbl2\n",
      "curr table selected\n",
      "we have curr table\n",
      "sampled element (17, '7f1366217c2c4387a08412fbf46c4303') from table tbl2\n",
      "curr table selected\n",
      "we have curr table\n",
      "sampled element (12, '90ca8bc462bf428aaf93378cd2166fd7') from table tbl2\n",
      "curr table selected\n",
      "we have curr table\n",
      "sampled element (13, '0399346473004548a263c95d678fc934') from table tbl1\n",
      "curr table selected\n",
      "we have curr table\n",
      "sampled element (13, '13833e01cd8c44de8c8ffe1852c7b4fe') from table tbl1\n",
      "curr table selected\n",
      "we have curr table\n",
      "sampled element (13, '9f523535c77346e5b21c7c632d3a9371') from table tbl1\n",
      "curr table selected\n",
      "we have curr table\n",
      "sampled element (13, 'c154dab3f5a440479ec8463f804982bd') from table tbl1\n",
      "curr table selected\n",
      "we have curr table\n",
      "sampled element (15, '0a8c471945c74b28888cce228e9f83d3') from table tbl2\n",
      "curr table selected\n",
      "we have curr table\n",
      "sampled element (13, '1e46cb5514054e70a48526a7ddb9f04a') from table tbl1\n",
      "curr table selected\n",
      "we have curr table\n",
      "sampled element (13, '891ad8c2aad34504a1ca979f0ba44513') from table tbl2\n",
      "curr table selected\n",
      "we have curr table\n",
      "sampled element (14, '8cd2c27e3b324871ae9745e54cf37e5c') from table tbl2\n",
      "curr table selected\n",
      "we have curr table\n",
      "sampled element (15, '09d59223999f4b8dad9371d3efb63982') from table tbl2\n",
      "curr table selected\n",
      "we have curr table\n",
      "sampled element (13, '51a4829956164d0b82d9ce814033611e') from table tbl1\n",
      "curr table selected\n",
      "we have curr table\n",
      "sampled element (13, 'e2a7f64bd3ba4780b83aa29dd2b4a6f5') from table tbl1\n",
      "curr table selected\n",
      "we have curr table\n",
      "sampled element (13, 'f32bd17e4a834b4885be0e46672fc860') from table tbl1\n",
      "curr table selected\n",
      "we have curr table\n",
      "sampled element (14, '4ce83c8db7a148f3aee276311df67e72') from table tbl2\n",
      "curr table selected\n",
      "we have curr table\n",
      "sampled element (13, '3ff6b81019114f1cb8aa92f2aa4811b7') from table tbl1\n",
      "curr table selected\n",
      "we have curr table\n",
      "sampled element (15, '0a8c471945c74b28888cce228e9f83d3') from table tbl2\n",
      "curr table selected\n",
      "we have curr table\n",
      "sampled element (20, 'aa0b1a13a57a47e8884702b6e1685397') from table tbl1\n",
      "curr table selected\n",
      "we have curr table\n",
      "sampled element (10, '9726949c649c4e6bb77dcecd36d4a875') from table tbl1\n",
      "curr table selected\n",
      "we have curr table\n",
      "sampled element (13, '61097cb96a4a42a380fe48e66a45c8f0') from table tbl1\n",
      "curr table selected\n",
      "we have curr table\n",
      "sampled element (13, '0e2bb6d291374920b5f4daf17b27eab0') from table tbl1\n",
      "curr table selected\n",
      "we have curr table\n",
      "sampled element (10, 'e7b6f804740e49078826187749e3d8cc') from table tbl2\n",
      "curr table selected\n",
      "we have curr table\n",
      "sampled element (15, 'd73fcdbc5a484e4da1d100b95bc0f158') from table tbl2\n",
      "curr table selected\n",
      "we have curr table\n",
      "sampled element (13, 'f9c864bf8bfb4573b7a5132b90a0ef91') from table tbl1\n",
      "curr table selected\n",
      "we have curr table\n",
      "sampled element (13, '21741c90fc494d82b4830a6f1565688e') from table tbl1\n",
      "curr table selected\n",
      "we have curr table\n",
      "sampled element (13, 'd968bfd9490f41cca2b59a8d4ceb54d4') from table tbl1\n",
      "curr table selected\n",
      "we have curr table\n",
      "sampled element (18, 'be352077950c4fdeaa4e96a903aa0b3e') from table tbl2\n",
      "curr table selected\n",
      "we have curr table\n",
      "sampled element (11, 'a20f28956e814c8bb77758d00dd09190') from table tbl2\n",
      "curr table selected\n",
      "we have curr table\n",
      "sampled element (13, '7f2daf9d2ddf44c4a801a4f31dac6251') from table tbl1\n",
      "curr table selected\n",
      "we have curr table\n",
      "sampled element (15, 'd73fcdbc5a484e4da1d100b95bc0f158') from table tbl2\n",
      "curr table selected\n",
      "we have curr table\n",
      "sampled element (12, 'bb66994e9ee24acb8be5dd7c670677a9') from table tbl2\n",
      "curr table selected\n",
      "we have curr table\n",
      "sampled element (11, 'a20f28956e814c8bb77758d00dd09190') from table tbl2\n",
      "curr table selected\n",
      "we have curr table\n",
      "sampled element (10, '53e459daa27047c0994e3fe9d63c1a64') from table tbl2\n",
      "curr table selected\n",
      "we have curr table\n",
      "sampled element (13, '9f523535c77346e5b21c7c632d3a9371') from table tbl1\n",
      "curr table selected\n",
      "we have curr table\n",
      "sampled element (16, '2f967156a0b745bb8ac4a4ac1b539778') from table tbl2\n",
      "curr table selected\n",
      "we have curr table\n",
      "sampled element (13, '13833e01cd8c44de8c8ffe1852c7b4fe') from table tbl1\n",
      "curr table selected\n",
      "we have curr table\n",
      "sampled element (17, 'be3884455b3f43ae8d509b1c53f3823f') from table tbl2\n",
      "curr table selected\n",
      "we have curr table\n",
      "sampled element (11, '8a031e3ba5ac4462b1f949fbf3d78e26') from table tbl2\n",
      "curr table selected\n",
      "we have curr table\n",
      "sampled element (11, '55a94ee519bb4a03bd14e613946e8bfd') from table tbl1\n",
      "curr table selected\n",
      "we have curr table\n",
      "sampled element (20, 'cead899511234aa79c34200bde252d7d') from table tbl2\n",
      "curr table selected\n",
      "we have curr table\n",
      "sampled element (15, '3943fb313c4a4d0fa619afa5473e2cb2') from table tbl2\n",
      "curr table selected\n",
      "we have curr table\n",
      "sampled element (13, '0edc0b508a384320a007386f4ca79fe2') from table tbl1\n",
      "curr table selected\n",
      "we have curr table\n",
      "sampled element (11, 'a20f28956e814c8bb77758d00dd09190') from table tbl2\n",
      "curr table selected\n",
      "we have curr table\n",
      "sampled element (13, '0e2bb6d291374920b5f4daf17b27eab0') from table tbl1\n",
      "curr table selected\n",
      "we have curr table\n",
      "sampled element (13, 'bc819b4d6f904febbcaada140a2dad36') from table tbl1\n",
      "curr table selected\n",
      "we have curr table\n",
      "sampled element (13, 'ded9cf209abf4149b92ae1aa73de126f') from table tbl2\n",
      "curr table selected\n",
      "we have curr table\n",
      "sampled element (11, 'bdeb00e35bc14bc3b54cb476f04e7b63') from table tbl2\n",
      "curr table selected\n",
      "we have curr table\n",
      "sampled element (17, '4fad09f541e3450c857b9bc4ea837512') from table tbl2\n",
      "curr table selected\n",
      "we have curr table\n",
      "sampled element (10, 'bf492e91726247b3bd4c985562d7191d') from table tbl2\n",
      "curr table selected\n",
      "we have curr table\n",
      "sampled element (13, 'c154dab3f5a440479ec8463f804982bd') from table tbl1\n",
      "curr table selected\n",
      "we have curr table\n",
      "sampled element (13, '0399346473004548a263c95d678fc934') from table tbl1\n",
      "curr table selected\n",
      "we have curr table\n",
      "sampled element (13, 'aa7e983d1c9f455bbeb5b4b8d49a24cf') from table tbl1\n",
      "curr table selected\n",
      "we have curr table\n",
      "sampled element (12, 'd698bfda5dab42a999cd5927acfcc69e') from table tbl2\n",
      "curr table selected\n",
      "we have curr table\n",
      "sampled element (12, 'd698bfda5dab42a999cd5927acfcc69e') from table tbl2\n",
      "curr table selected\n",
      "we have curr table\n",
      "sampled element (12, 'bb66994e9ee24acb8be5dd7c670677a9') from table tbl2\n",
      "curr table selected\n",
      "we have curr table\n",
      "sampled element (13, '8ccd4e34a4da4ce19a2ccc72b0bb23d8') from table tbl2\n",
      "curr table selected\n",
      "we have curr table\n",
      "sampled element (20, 'aea13ba8c7634545883893a44644946c') from table tbl2\n",
      "curr table selected\n",
      "we have curr table\n",
      "sampled element (13, '9d6aff2b848841318cb42fb050c4f316') from table tbl1\n",
      "curr table selected\n",
      "we have curr table\n",
      "sampled element (11, '8a031e3ba5ac4462b1f949fbf3d78e26') from table tbl2\n",
      "curr table selected\n",
      "we have curr table\n",
      "sampled element (13, 'a0f1ed6a977149b58f69974af7e00339') from table tbl1\n",
      "curr table selected\n",
      "we have curr table\n",
      "sampled element (11, '86e2fd7259f04ca1b5983be9c406d7f9') from table tbl2\n",
      "curr table selected\n",
      "we have curr table\n",
      "sampled element (13, 'a0f1ed6a977149b58f69974af7e00339') from table tbl1\n"
     ]
    }
   ],
   "source": [
    "from collections import defaultdict\n",
    "chosen_elements = defaultdict(lambda :{'join_freq':0, 'sampled': 0, 'sampled_from':[], 'iteration':0})\n",
    "sampled = 0\n",
    "i = 0\n",
    "K = 100\n",
    "\n",
    "samples = []\n",
    "\n",
    "full_join = tbl1.join(tbl2)\n",
    "print('we have full join')\n",
    "values_in_join = {x[0] for x in full_join}\n",
    "tables_picker = _tables_iterator(tbl1, tbl2)\n",
    "sampled_keys=[]\n",
    "while sum([x['sampled'] for x in chosen_elements.values()]) < K:\n",
    "    i+=1\n",
    "    curr_table = next(tables_picker)\n",
    "\n",
    "    print('curr table selected')\n",
    "    element = curr_table.rand()\n",
    "    element_key = element[0]\n",
    "\n",
    "    while element_key not in values_in_join or (\n",
    "        chosen_elements[element_key]['sampled'] == freq_in_join_estimate[element_key]):\n",
    "        element = curr_table.rand()\n",
    "        element_key = element[0]\n",
    "    \n",
    "    print('we have curr table')\n",
    "    chosen_elements[element_key]['join_freq'] = freq_in_join_estimate[element_key]\n",
    "    \n",
    "#     if chosen_elements[element_key]['sampled'] == freq_in_join_estimate[element_key]:\n",
    "#         print('problem')\n",
    "#         continue\n",
    "    \n",
    "    chosen_elements[element_key]['sampled'] +=1\n",
    "    chosen_elements[element_key]['sampled_from'].append(curr_table.name)\n",
    "    sampled_keys.append((element, curr_table.name))\n",
    "    print(f'sampled element {element} from table {curr_table.name}')\n",
    "\n",
    "    \n",
    "#     element = random.sample(table1, 1)[0]\n",
    "#     if not chosen_elements[element]['join_freq']:\n",
    "#         chosen_elements[element]['join_freq'] = freq_in_join_estimate[element]\n",
    "    \n",
    "#     chosen_elements[element]['sampled'] +=1\n",
    "#     chosen_elements[element]['iteration'] +=1\n",
    "#     chosen_elements[element]['samled_from'].append('table1')\n"
   ]
  },
  {
   "cell_type": "code",
   "execution_count": 399,
   "metadata": {},
   "outputs": [
    {
     "data": {
      "text/plain": [
       "[(11, 12),\n",
       " (16, 4),\n",
       " (10, 10),\n",
       " (14, 4),\n",
       " (12, 7),\n",
       " (13, 43),\n",
       " (17, 5),\n",
       " (18, 5),\n",
       " (15, 7),\n",
       " (20, 3)]"
      ]
     },
     "execution_count": 399,
     "metadata": {},
     "output_type": "execute_result"
    }
   ],
   "source": [
    "[(key, len(settings['sampled_from'])) for key, settings in chosen_elements.items()]"
   ]
  },
  {
   "cell_type": "code",
   "execution_count": 400,
   "metadata": {},
   "outputs": [],
   "source": [
    "# continue from here: need to see:\n",
    "# 1. we don't choose the same element more the expected number in the join\n",
    "# 2. we don't choose the same tupple"
   ]
  },
  {
   "cell_type": "code",
   "execution_count": 401,
   "metadata": {},
   "outputs": [
    {
     "data": {
      "text/plain": [
       "{10, 11, 12, 13, 14, 15, 16, 17, 18, 19, 20}"
      ]
     },
     "execution_count": 401,
     "metadata": {},
     "output_type": "execute_result"
    }
   ],
   "source": [
    "set(tbl2.keys)"
   ]
  },
  {
   "cell_type": "code",
   "execution_count": 410,
   "metadata": {},
   "outputs": [
    {
     "data": {
      "text/plain": [
       "355"
      ]
     },
     "execution_count": 410,
     "metadata": {},
     "output_type": "execute_result"
    }
   ],
   "source": [
    "def _calculate_distribution(values):\n",
    "    return {value: occurences/len(values) for value, occurences in Counter([key for key in values]).most_common(10)}\n",
    "\n",
    "len(full_join)"
   ]
  },
  {
   "cell_type": "code",
   "execution_count": 411,
   "metadata": {},
   "outputs": [
    {
     "data": {
      "text/plain": [
       "{13: 0.43,\n",
       " 11: 0.12,\n",
       " 10: 0.1,\n",
       " 12: 0.07,\n",
       " 15: 0.07,\n",
       " 17: 0.05,\n",
       " 18: 0.05,\n",
       " 16: 0.04,\n",
       " 14: 0.04,\n",
       " 20: 0.03}"
      ]
     },
     "execution_count": 411,
     "metadata": {},
     "output_type": "execute_result"
    }
   ],
   "source": [
    "_calculate_distribution ([x[0][0] for x in sampled_keys])"
   ]
  },
  {
   "cell_type": "code",
   "execution_count": 412,
   "metadata": {},
   "outputs": [
    {
     "data": {
      "text/plain": [
       "{13: 0.6985915492957746,\n",
       " 11: 0.10140845070422536,\n",
       " 10: 0.08450704225352113,\n",
       " 12: 0.03380281690140845,\n",
       " 15: 0.01971830985915493,\n",
       " 17: 0.014084507042253521,\n",
       " 18: 0.014084507042253521,\n",
       " 20: 0.011267605633802818,\n",
       " 16: 0.011267605633802818,\n",
       " 14: 0.011267605633802818}"
      ]
     },
     "execution_count": 412,
     "metadata": {},
     "output_type": "execute_result"
    }
   ],
   "source": [
    "_calculate_distribution([x[0] for x in full_join])"
   ]
  },
  {
   "cell_type": "code",
   "execution_count": 413,
   "metadata": {},
   "outputs": [
    {
     "data": {
      "text/plain": [
       "Counter({10: 30,\n",
       "         20: 4,\n",
       "         17: 5,\n",
       "         15: 7,\n",
       "         11: 36,\n",
       "         12: 12,\n",
       "         13: 248,\n",
       "         18: 5,\n",
       "         16: 4,\n",
       "         14: 4})"
      ]
     },
     "execution_count": 413,
     "metadata": {},
     "output_type": "execute_result"
    }
   ],
   "source": [
    "Counter([x[0] for x in full_join])"
   ]
  },
  {
   "cell_type": "code",
   "execution_count": 414,
   "metadata": {},
   "outputs": [
    {
     "ename": "SyntaxError",
     "evalue": "unexpected EOF while parsing (<ipython-input-414-3eb65f5028c2>, line 1)",
     "output_type": "error",
     "traceback": [
      "\u001b[0;36m  File \u001b[0;32m\"<ipython-input-414-3eb65f5028c2>\"\u001b[0;36m, line \u001b[0;32m1\u001b[0m\n\u001b[0;31m    [sampled_keys\u001b[0m\n\u001b[0m                 ^\u001b[0m\n\u001b[0;31mSyntaxError\u001b[0m\u001b[0;31m:\u001b[0m unexpected EOF while parsing\n"
     ]
    }
   ],
   "source": [
    "[sampled_keys"
   ]
  },
  {
   "cell_type": "code",
   "execution_count": null,
   "metadata": {},
   "outputs": [],
   "source": []
  }
 ],
 "metadata": {
  "kernelspec": {
   "display_name": "Python 3",
   "language": "python",
   "name": "python3"
  },
  "language_info": {
   "codemirror_mode": {
    "name": "ipython",
    "version": 3
   },
   "file_extension": ".py",
   "mimetype": "text/x-python",
   "name": "python",
   "nbconvert_exporter": "python",
   "pygments_lexer": "ipython3",
   "version": "3.6.5"
  }
 },
 "nbformat": 4,
 "nbformat_minor": 4
}
